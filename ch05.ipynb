{
 "cells": [
  {
   "cell_type": "code",
   "execution_count": 1,
   "id": "dbea5f49-8b3b-4846-a0a6-7d08f45bd9b6",
   "metadata": {},
   "outputs": [],
   "source": [
    "import torch\n",
    "import torch.nn as nn"
   ]
  },
  {
   "cell_type": "code",
   "execution_count": 2,
   "id": "26e085b7-0b26-45e0-9d88-359b7ff75171",
   "metadata": {},
   "outputs": [],
   "source": [
    "#nn.Linear(2,1)\n",
    "#nn.Sigmoid()\n",
    "#nn.ReLU()\n",
    "#nn.Softmax()\n",
    "#nn.Dropout()"
   ]
  },
  {
   "cell_type": "code",
   "execution_count": null,
   "id": "c4135d5d-1bf9-429e-a3f9-cb4a677c35d1",
   "metadata": {},
   "outputs": [],
   "source": [
    "#nn.Conv2d(1, 6, 3)\n",
    "#nn.MaxPool2d(2,2)\n",
    "#nn.Flatten()"
   ]
  },
  {
   "cell_type": "code",
   "execution_count": 4,
   "id": "c01a8522-c1aa-46d3-9c2f-66efebf9f019",
   "metadata": {},
   "outputs": [],
   "source": [
    "X_train =torch.tensor([ [0,0],\n",
    "                        [0,1],\n",
    "                        [1,0],\n",
    "                        [1,1.] ])"
   ]
  },
  {
   "cell_type": "code",
   "execution_count": 5,
   "id": "4e60bcdd-5ed8-412f-b013-45270fe5a55a",
   "metadata": {},
   "outputs": [
    {
     "data": {
      "text/plain": [
       "torch.Size([4, 2])"
      ]
     },
     "execution_count": 5,
     "metadata": {},
     "output_type": "execute_result"
    }
   ],
   "source": [
    "X_train.shape"
   ]
  },
  {
   "cell_type": "code",
   "execution_count": 6,
   "id": "9c7105ec-c509-4b12-b95a-7112320a7899",
   "metadata": {},
   "outputs": [
    {
     "data": {
      "text/plain": [
       "torch.float32"
      ]
     },
     "execution_count": 6,
     "metadata": {},
     "output_type": "execute_result"
    }
   ],
   "source": [
    "X_train.dtype"
   ]
  },
  {
   "cell_type": "code",
   "execution_count": 11,
   "id": "d203e967-f7c1-411c-8978-0d200e9b4807",
   "metadata": {},
   "outputs": [],
   "source": [
    "y_label = torch.tensor([[0],\n",
    "                        [0],\n",
    "                        [0],\n",
    "                        [1]])\n",
    "#y_label = torch.tensor([0,0,0,1]) 데이터는 똑같은데 형식, shape이  다른 것의 차이를 보기 위해."
   ]
  },
  {
   "cell_type": "code",
   "execution_count": 12,
   "id": "76d7efbf-a1ff-429b-b34d-a62f7223181e",
   "metadata": {},
   "outputs": [
    {
     "data": {
      "text/plain": [
       "torch.Size([4, 1])"
      ]
     },
     "execution_count": 12,
     "metadata": {},
     "output_type": "execute_result"
    }
   ],
   "source": [
    "y_label.shape"
   ]
  },
  {
   "cell_type": "code",
   "execution_count": 22,
   "id": "f8faa725-6361-492c-9b77-a8592737032c",
   "metadata": {},
   "outputs": [],
   "source": [
    "linear = nn.Linear(4, 2)"
   ]
  },
  {
   "cell_type": "code",
   "execution_count": 16,
   "id": "bbb38bf8-e4be-449b-b575-7efab34953aa",
   "metadata": {},
   "outputs": [
    {
     "data": {
      "text/plain": [
       "torch.Size([4, 1])"
      ]
     },
     "execution_count": 16,
     "metadata": {},
     "output_type": "execute_result"
    }
   ],
   "source": [
    "x.shape"
   ]
  },
  {
   "cell_type": "code",
   "execution_count": 32,
   "id": "048be1a7-1832-46b3-94af-cab9da087201",
   "metadata": {},
   "outputs": [],
   "source": [
    "R_train=torch.rand(32, 3)"
   ]
  },
  {
   "cell_type": "code",
   "execution_count": 24,
   "id": "1d3a97c0-c70d-48f3-9e5a-3e3fe7cf042a",
   "metadata": {
    "scrolled": true
   },
   "outputs": [
    {
     "data": {
      "text/plain": [
       "torch.Size([32, 2])"
      ]
     },
     "execution_count": 24,
     "metadata": {},
     "output_type": "execute_result"
    }
   ],
   "source": [
    "linear(R_train).shape"
   ]
  },
  {
   "cell_type": "code",
   "execution_count": 29,
   "id": "7d161466-c42b-47a7-979d-402145acee24",
   "metadata": {},
   "outputs": [
    {
     "data": {
      "text/plain": [
       "tensor([[0.0000, 0.0000],\n",
       "        [0.0000, 0.1377],\n",
       "        [0.0000, 0.0706],\n",
       "        [0.0000, 0.0000],\n",
       "        [0.0000, 0.0000],\n",
       "        [0.0000, 0.0466],\n",
       "        [0.1606, 0.1285],\n",
       "        [0.0000, 0.0526],\n",
       "        [0.0000, 0.1385],\n",
       "        [0.0000, 0.0968],\n",
       "        [0.0000, 0.0000],\n",
       "        [0.0574, 0.2440],\n",
       "        [0.0000, 0.1946],\n",
       "        [0.0000, 0.0000],\n",
       "        [0.0000, 0.0043],\n",
       "        [0.1373, 0.0902],\n",
       "        [0.0000, 0.0433],\n",
       "        [0.2055, 0.0364],\n",
       "        [0.0000, 0.0753],\n",
       "        [0.0000, 0.0000],\n",
       "        [0.0000, 0.0000],\n",
       "        [0.0167, 0.2093],\n",
       "        [0.0000, 0.1464],\n",
       "        [0.0000, 0.0000],\n",
       "        [0.0000, 0.0000],\n",
       "        [0.0000, 0.1576],\n",
       "        [0.3548, 0.2871],\n",
       "        [0.0000, 0.0000],\n",
       "        [0.1190, 0.0000],\n",
       "        [0.0000, 0.0000],\n",
       "        [0.0000, 0.0908],\n",
       "        [0.0000, 0.0000]], grad_fn=<ReluBackward0>)"
      ]
     },
     "execution_count": 29,
     "metadata": {},
     "output_type": "execute_result"
    }
   ],
   "source": [
    "linear = nn.Linear(4, 2)\n",
    "x = linear(R_train)\n",
    "relu = nn.ReLU()\n",
    "R = relu(x)\n",
    "R"
   ]
  },
  {
   "cell_type": "code",
   "execution_count": 37,
   "id": "df2bf4b4-89c2-40e4-bea6-28c7275c9fda",
   "metadata": {},
   "outputs": [
    {
     "data": {
      "text/plain": [
       "tensor([[0.4080, 0.5920],\n",
       "        [0.4753, 0.5247],\n",
       "        [0.4855, 0.5145],\n",
       "        [0.3276, 0.6724],\n",
       "        [0.4848, 0.5152],\n",
       "        [0.3839, 0.6161],\n",
       "        [0.4142, 0.5858],\n",
       "        [0.3925, 0.6075],\n",
       "        [0.4468, 0.5532],\n",
       "        [0.5519, 0.4481],\n",
       "        [0.3576, 0.6424],\n",
       "        [0.5055, 0.4945],\n",
       "        [0.5862, 0.4138],\n",
       "        [0.6003, 0.3997],\n",
       "        [0.5216, 0.4784],\n",
       "        [0.5736, 0.4264],\n",
       "        [0.3604, 0.6396],\n",
       "        [0.4327, 0.5673],\n",
       "        [0.4739, 0.5261],\n",
       "        [0.5230, 0.4770],\n",
       "        [0.5331, 0.4669],\n",
       "        [0.5541, 0.4459],\n",
       "        [0.4787, 0.5213],\n",
       "        [0.5118, 0.4882],\n",
       "        [0.4047, 0.5953],\n",
       "        [0.5740, 0.4260],\n",
       "        [0.4602, 0.5398],\n",
       "        [0.5215, 0.4785],\n",
       "        [0.5569, 0.4431],\n",
       "        [0.5007, 0.4993],\n",
       "        [0.4655, 0.5345],\n",
       "        [0.5424, 0.4576]], grad_fn=<SoftmaxBackward0>)"
      ]
     },
     "execution_count": 37,
     "metadata": {},
     "output_type": "execute_result"
    }
   ],
   "source": [
    "linear2 = nn.Linear(3,2)\n",
    "softmax = nn.Softmax()\n",
    "dropout = nn.Dropout()\n",
    "x = linear2(R_train)\n",
    "dropout(x)\n",
    "softmax(x)\n"
   ]
  },
  {
   "cell_type": "code",
   "execution_count": 62,
   "id": "941f54a3-0936-487c-bea9-3c56f96fe316",
   "metadata": {},
   "outputs": [
    {
     "data": {
      "text/plain": [
       "torch.Size([5, 16, 28, 28])"
      ]
     },
     "execution_count": 62,
     "metadata": {},
     "output_type": "execute_result"
    }
   ],
   "source": [
    "image = torch.rand(5, 16, 28, 28)\n",
    "image.shape #(배치 크기, 입력 채널 수, 출력 데이터 높이와 너비)"
   ]
  },
  {
   "cell_type": "code",
   "execution_count": 56,
   "id": "43824018-2dad-4897-ad39-b0df87a78624",
   "metadata": {},
   "outputs": [],
   "source": [
    "conv = nn.Conv2d(6, 16, 3, padding='same') #(입력 채널 수=image.shape 했을때 채널 수와 동일, 출력 채널 수, 커널 크기=내가 원하는 만큼)"
   ]
  },
  {
   "cell_type": "code",
   "execution_count": 49,
   "id": "155ebffd-a739-41cd-9425-fcbdd43bcd49",
   "metadata": {},
   "outputs": [
    {
     "data": {
      "text/plain": [
       "tensor([[[ 5.2259e-01,  5.7011e-01,  6.1152e-01,  ...,  3.7377e-01,\n",
       "           2.2840e-01,  3.1282e-01],\n",
       "         [ 3.6701e-01,  3.6092e-01,  3.7405e-01,  ...,  2.6429e-01,\n",
       "           1.6829e-01,  1.0875e-01],\n",
       "         [ 4.5435e-01,  3.7358e-01,  4.5336e-01,  ...,  5.0878e-01,\n",
       "           4.3449e-01,  5.2996e-01],\n",
       "         ...,\n",
       "         [ 5.0732e-01,  4.4626e-01,  4.0709e-01,  ...,  4.8058e-01,\n",
       "           4.4978e-01,  6.4186e-01],\n",
       "         [ 4.0272e-01,  3.9226e-01,  2.1924e-01,  ...,  4.5805e-01,\n",
       "           2.4843e-01,  1.5620e-01],\n",
       "         [ 2.5766e-01,  2.2770e-01,  3.9023e-01,  ...,  4.6654e-01,\n",
       "           6.0499e-01,  5.5423e-01]],\n",
       "\n",
       "        [[ 3.1837e-01,  4.0152e-01,  4.2870e-01,  ...,  3.4439e-01,\n",
       "           5.4009e-01,  1.7614e-01],\n",
       "         [ 7.3140e-01,  7.9145e-01,  7.3035e-01,  ...,  5.6527e-01,\n",
       "           7.0007e-01,  5.2336e-01],\n",
       "         [ 9.7244e-01,  8.3188e-01,  5.4020e-01,  ...,  7.3930e-01,\n",
       "           7.2195e-01,  6.4553e-01],\n",
       "         ...,\n",
       "         [ 6.0931e-01,  5.8562e-01,  3.9941e-01,  ...,  6.7692e-01,\n",
       "           6.4914e-01,  4.4099e-01],\n",
       "         [ 6.8657e-01,  6.6132e-01,  7.7536e-01,  ...,  1.0677e+00,\n",
       "           9.4155e-01,  5.5909e-01],\n",
       "         [ 9.2047e-01,  6.9772e-01,  4.7678e-01,  ...,  7.8406e-01,\n",
       "           4.8516e-01,  3.7579e-01]],\n",
       "\n",
       "        [[-5.5640e-01, -1.7493e-01, -2.2289e-01,  ..., -4.8131e-01,\n",
       "          -2.1633e-01, -3.2276e-02],\n",
       "         [-3.9978e-01, -4.7661e-01, -6.3491e-01,  ..., -4.0442e-01,\n",
       "          -3.7342e-01, -1.4797e-01],\n",
       "         [-7.7794e-01, -4.2278e-01, -6.0558e-01,  ..., -4.8977e-01,\n",
       "          -3.1570e-01, -7.5297e-01],\n",
       "         ...,\n",
       "         [-6.9630e-01, -2.7747e-01, -9.0213e-02,  ..., -7.3989e-01,\n",
       "          -3.2829e-01, -5.8092e-01],\n",
       "         [-2.1983e-01, -2.9864e-01, -3.2879e-01,  ..., -5.5790e-01,\n",
       "          -4.1614e-01, -3.9094e-01],\n",
       "         [-4.7654e-01, -3.7610e-01, -6.7412e-01,  ..., -5.1107e-01,\n",
       "          -4.4383e-01, -2.0366e-01]],\n",
       "\n",
       "        [[ 1.8861e-02,  1.5956e-01,  2.0846e-01,  ...,  2.7970e-02,\n",
       "           1.5489e-01,  7.6144e-02],\n",
       "         [ 2.4549e-01,  1.5515e-01, -3.7967e-02,  ...,  7.9365e-02,\n",
       "           1.7745e-01, -1.9554e-02],\n",
       "         [ 2.5901e-02, -1.3663e-01, -2.6392e-01,  ...,  2.0877e-01,\n",
       "           3.3971e-01,  1.4455e-02],\n",
       "         ...,\n",
       "         [-1.2450e-01, -2.9845e-02,  1.2507e-01,  ...,  7.4375e-02,\n",
       "           4.0407e-02, -2.9576e-02],\n",
       "         [ 2.1035e-01,  2.9358e-01,  1.5839e-01,  ...,  2.4324e-01,\n",
       "          -9.8139e-02, -4.7832e-01],\n",
       "         [ 7.2544e-02, -1.2502e-01, -1.6596e-01,  ...,  9.7990e-02,\n",
       "           2.2323e-01,  1.1454e-01]],\n",
       "\n",
       "        [[-7.7283e-01, -4.7008e-01, -5.4172e-01,  ..., -6.4075e-01,\n",
       "          -2.9634e-01, -2.7087e-01],\n",
       "         [-1.8774e-01, -2.2509e-01, -2.2606e-01,  ..., -3.2132e-01,\n",
       "          -2.5622e-01, -3.9280e-02],\n",
       "         [-6.2136e-01, -5.2059e-01, -7.9225e-01,  ..., -2.5611e-01,\n",
       "          -2.3587e-01, -7.2685e-01],\n",
       "         ...,\n",
       "         [-7.7140e-01, -7.5768e-01, -5.7265e-01,  ..., -6.7991e-01,\n",
       "          -3.0634e-01, -5.4988e-01],\n",
       "         [-3.9722e-01, -4.7861e-01, -1.1074e-01,  ..., -5.7010e-01,\n",
       "          -7.0918e-01, -4.1227e-01],\n",
       "         [-5.8134e-01, -2.1965e-01, -6.8844e-01,  ..., -5.8233e-01,\n",
       "          -7.9309e-01, -4.8501e-01]],\n",
       "\n",
       "        [[-2.5053e-01, -3.4372e-01, -2.3717e-01,  ..., -6.8861e-02,\n",
       "          -1.7353e-01, -5.7666e-02],\n",
       "         [ 5.0428e-02, -3.2925e-03,  7.8048e-04,  ...,  9.5915e-02,\n",
       "          -2.9669e-02,  1.4824e-01],\n",
       "         [-1.4618e-01, -5.6092e-02, -1.6629e-01,  ..., -1.7652e-01,\n",
       "          -1.2253e-01, -8.1242e-02],\n",
       "         ...,\n",
       "         [-1.3629e-01, -3.3143e-01, -1.6920e-01,  ...,  2.1945e-02,\n",
       "          -2.6049e-01, -1.6277e-01],\n",
       "         [-2.0002e-01, -1.6465e-02,  4.7757e-02,  ..., -1.3080e-01,\n",
       "           5.3200e-02,  3.8058e-02],\n",
       "         [ 4.1341e-02,  8.0988e-02, -1.3711e-01,  ..., -2.4601e-01,\n",
       "          -2.6303e-01, -3.4177e-01]]], grad_fn=<SqueezeBackward1>)"
      ]
     },
     "execution_count": 49,
     "metadata": {},
     "output_type": "execute_result"
    }
   ],
   "source": [
    "conv(image)"
   ]
  },
  {
   "cell_type": "code",
   "execution_count": 65,
   "id": "6f0e20de-d90f-44b1-8a02-e5aac8217212",
   "metadata": {},
   "outputs": [
    {
     "data": {
      "text/plain": [
       "torch.Size([5, 6, 14, 14])"
      ]
     },
     "execution_count": 65,
     "metadata": {},
     "output_type": "execute_result"
    }
   ],
   "source": [
    "conv=nn.Conv2d(in_channels=16, out_channels=6, kernel_size=3, padding=1)\n",
    "x = conv(image)\n",
    "pool = nn.MaxPool2d(2) #2는 이미지 크기 2*2 즉 두칸씩 묶어서 망원경으로 최댓값을 뽑아내므로 이미지 크기가\n",
    "x = pool(x)\n",
    "x.shape"
   ]
  },
  {
   "cell_type": "code",
   "execution_count": 66,
   "id": "8bf8e113-939e-491f-90ba-1d0667d687fe",
   "metadata": {},
   "outputs": [],
   "source": [
    "batch_size = 64"
   ]
  },
  {
   "cell_type": "code",
   "execution_count": 67,
   "id": "ff4104f5-a10e-41c8-9730-200549a6d8a3",
   "metadata": {},
   "outputs": [
    {
     "data": {
      "text/plain": [
       "781.25"
      ]
     },
     "execution_count": 67,
     "metadata": {},
     "output_type": "execute_result"
    }
   ],
   "source": [
    "50000/batch_size"
   ]
  },
  {
   "cell_type": "code",
   "execution_count": 73,
   "id": "137c6a1a-25f1-4a18-9724-5e8f9d1cbf86",
   "metadata": {},
   "outputs": [
    {
     "data": {
      "text/plain": [
       "torch.Size([64, 1, 28, 28])"
      ]
     },
     "execution_count": 73,
     "metadata": {},
     "output_type": "execute_result"
    }
   ],
   "source": [
    "image = torch.rand(batch_size, 1, 28, 28)\n",
    "image.shape #흑백이미지(1)가 64장 있다는 뜻 "
   ]
  },
  {
   "cell_type": "code",
   "execution_count": 69,
   "id": "27013623-e380-4d50-8fa8-d58985ab594f",
   "metadata": {},
   "outputs": [
    {
     "data": {
      "text/plain": [
       "torch.Size([64, 6, 14, 14])"
      ]
     },
     "execution_count": 69,
     "metadata": {},
     "output_type": "execute_result"
    }
   ],
   "source": [
    "conv = nn.Conv2d(1, 6, 3, padding='same')\n",
    "x = conv(image)\n",
    "pool = nn.MaxPool2d(2)\n",
    "x = pool(x)\n",
    "x.shape"
   ]
  },
  {
   "cell_type": "code",
   "execution_count": 72,
   "id": "b31cd365-02fc-44ef-b355-0343e732cf07",
   "metadata": {},
   "outputs": [
    {
     "data": {
      "text/plain": [
       "torch.Size([64, 1176])"
      ]
     },
     "execution_count": 72,
     "metadata": {},
     "output_type": "execute_result"
    }
   ],
   "source": [
    "flatten = nn.Flatten() #일렬로 평탄화, 64라는 배치 크기는 그대로 유지하면서 6*14*14 도출\n",
    "x = flatten(x) #원래 (배치 크기, 채널 수, 높이, 너비) 였던 걸\n",
    "x.shape #[배치 크기, 특성 수]로 변경하면 선형 레이어에 전달하기 쉬워짐"
   ]
  },
  {
   "cell_type": "code",
   "execution_count": 74,
   "id": "bac926e3-019f-4a35-8e35-6965f4cfe336",
   "metadata": {},
   "outputs": [
    {
     "data": {
      "text/plain": [
       "torch.Size([30, 3, 10, 10])"
      ]
     },
     "execution_count": 74,
     "metadata": {},
     "output_type": "execute_result"
    }
   ],
   "source": [
    "i = torch.rand(30, 3, 10, 10)\n",
    "i.shape #30장 배치짜리, rgb 3채널, 높이 너비는 10씩"
   ]
  },
  {
   "cell_type": "code",
   "execution_count": 77,
   "id": "43c800e8-cc6c-4286-846f-26d866c7f504",
   "metadata": {},
   "outputs": [
    {
     "data": {
      "text/plain": [
       "torch.Size([30, 5, 5, 5])"
      ]
     },
     "execution_count": 77,
     "metadata": {},
     "output_type": "execute_result"
    }
   ],
   "source": [
    "conv = nn.Conv2d(3, 5, 5, padding='same') #3개 채널을 5개 채널로, 커널사이즈 5로 출력하라\n",
    "x = conv(i)\n",
    "pool = nn.MaxPool2d(3) #내가 볼 망원경 크기가 3*3이라고 \n",
    "x = pool(x)\n",
    "x.shape #배치크기 그대로, 출력채널수 5, 높이 너비 5씩"
   ]
  },
  {
   "cell_type": "code",
   "execution_count": 78,
   "id": "fa150d24-e169-435e-8123-d0bcae9828f2",
   "metadata": {},
   "outputs": [
    {
     "data": {
      "text/plain": [
       "torch.Size([30, 125])"
      ]
     },
     "execution_count": 78,
     "metadata": {},
     "output_type": "execute_result"
    }
   ],
   "source": [
    "x = flatten(x)\n",
    "x.shape"
   ]
  },
  {
   "cell_type": "code",
   "execution_count": null,
   "id": "7abe5647-bad0-494c-acbf-5e72174f9738",
   "metadata": {},
   "outputs": [],
   "source": []
  }
 ],
 "metadata": {
  "kernelspec": {
   "display_name": "Python 3 (ipykernel)",
   "language": "python",
   "name": "python3"
  },
  "language_info": {
   "codemirror_mode": {
    "name": "ipython",
    "version": 3
   },
   "file_extension": ".py",
   "mimetype": "text/x-python",
   "name": "python",
   "nbconvert_exporter": "python",
   "pygments_lexer": "ipython3",
   "version": "3.12.4"
  }
 },
 "nbformat": 4,
 "nbformat_minor": 5
}
