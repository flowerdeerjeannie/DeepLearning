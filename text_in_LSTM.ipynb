{
 "cells": [
  {
   "cell_type": "code",
   "execution_count": 3,
   "id": "5854e8bb-6171-4b36-80fb-8cec6f3e81c8",
   "metadata": {},
   "outputs": [],
   "source": [
    "#pip install torchtext==0.6.0"
   ]
  },
  {
   "cell_type": "code",
   "execution_count": 1,
   "id": "d4ba7f51-8098-4fec-9f06-607bab1c3561",
   "metadata": {},
   "outputs": [],
   "source": [
    "import numpy as np\n",
    "import pandas as pa\n",
    "import matplotlib.pyplot as plt\n",
    "\n",
    "import torch\n",
    "import torch.nn as nn\n",
    "import torch.nn.functional as F\n",
    "import time\n",
    "\n",
    "#import torchtext"
   ]
  },
  {
   "cell_type": "code",
   "execution_count": 7,
   "id": "9b5205e0-913f-4140-b315-8d69b1cc07f0",
   "metadata": {},
   "outputs": [],
   "source": [
    "TEXT = torchtext.data.Field(lower=True, fix_length=200, batch_first=True)\n",
    "LABEL = torchtext.data.Field(sequential=False)"
   ]
  },
  {
   "cell_type": "code",
   "execution_count": 8,
   "id": "70f7aaa8-fb91-441c-b517-238100d46e16",
   "metadata": {},
   "outputs": [
    {
     "name": "stdout",
     "output_type": "stream",
     "text": [
      "downloading aclImdb_v1.tar.gz\n"
     ]
    },
    {
     "name": "stderr",
     "output_type": "stream",
     "text": [
      ".data\\imdb\\aclImdb_v1.tar.gz: 100%|████████████████████████████████████████████████| 84.1M/84.1M [01:35<00:00, 883kB/s]\n"
     ]
    }
   ],
   "source": [
    "#from torchtext.datasets import IMDB\n",
    "train_data, test_data = IMDB.splits(TEXT, LABEL)"
   ]
  },
  {
   "cell_type": "code",
   "execution_count": 10,
   "id": "69f52cbc-e929-4040-90f5-3107145d221d",
   "metadata": {},
   "outputs": [
    {
     "name": "stdout",
     "output_type": "stream",
     "text": [
      "{'text': ['bromwell', 'high', 'is', 'a', 'cartoon', 'comedy.', 'it', 'ran', 'at', 'the', 'same', 'time', 'as', 'some', 'other', 'programs', 'about', 'school', 'life,', 'such', 'as', '\"teachers\".', 'my', '35', 'years', 'in', 'the', 'teaching', 'profession', 'lead', 'me', 'to', 'believe', 'that', 'bromwell', \"high's\", 'satire', 'is', 'much', 'closer', 'to', 'reality', 'than', 'is', '\"teachers\".', 'the', 'scramble', 'to', 'survive', 'financially,', 'the', 'insightful', 'students', 'who', 'can', 'see', 'right', 'through', 'their', 'pathetic', \"teachers'\", 'pomp,', 'the', 'pettiness', 'of', 'the', 'whole', 'situation,', 'all', 'remind', 'me', 'of', 'the', 'schools', 'i', 'knew', 'and', 'their', 'students.', 'when', 'i', 'saw', 'the', 'episode', 'in', 'which', 'a', 'student', 'repeatedly', 'tried', 'to', 'burn', 'down', 'the', 'school,', 'i', 'immediately', 'recalled', '.........', 'at', '..........', 'high.', 'a', 'classic', 'line:', 'inspector:', \"i'm\", 'here', 'to', 'sack', 'one', 'of', 'your', 'teachers.', 'student:', 'welcome', 'to', 'bromwell', 'high.', 'i', 'expect', 'that', 'many', 'adults', 'of', 'my', 'age', 'think', 'that', 'bromwell', 'high', 'is', 'far', 'fetched.', 'what', 'a', 'pity', 'that', 'it', \"isn't!\"], 'label': 'pos'}\n"
     ]
    }
   ],
   "source": [
    "print(vars(train_data.examples[0]))"
   ]
  },
  {
   "cell_type": "markdown",
   "id": "89d9d712-f853-41b8-aa5c-e01d7e53b234",
   "metadata": {},
   "source": [
    "## 전처리"
   ]
  },
  {
   "cell_type": "code",
   "execution_count": 25,
   "id": "9786637d-4614-4dde-a2e0-42930edb9680",
   "metadata": {},
   "outputs": [],
   "source": [
    "import string\n",
    "\n",
    "for example in train_data.examples:\n",
    "    text = [x.lower() for x in vars(example)[\"text\"]] #키값만 들고와서 그안에 애들 다 lower해\n",
    "    text = [x.replace(\"<br\", \"\") for x in text]\n",
    "    text = [\"\".join(c for c in s if c not in string.punctuation) for s in text] #불용어 처리인데. 이렇게 안써요..\n",
    "    text = [s for s in text if s]\n",
    "    vars(example)[\"text\"] = text\n",
    "\n",
    "for example in test_data.examples:\n",
    "    text = [x.lower() for x in vars(example)[\"text\"]] \n",
    "    text = [x.replace(\"<br\", \"\") for x in text]\n",
    "    text = [\"\".join(c for c in s if c not in string.punctuation) for s in text]\n",
    "    text = [s for s in text if s]\n",
    "    vars(example)[\"text\"] = text"
   ]
  },
  {
   "cell_type": "code",
   "execution_count": 27,
   "id": "f2a5e144-d596-431a-9ea7-ffd867619e4e",
   "metadata": {},
   "outputs": [],
   "source": [
    "import random\n",
    "\n",
    "train_data, valid_data = train_data.split(random_state=random.seed(42), split_ratio=0.8)"
   ]
  },
  {
   "cell_type": "code",
   "execution_count": 31,
   "id": "ccaa8ca3-7804-4fe8-927b-13092a7d3dbd",
   "metadata": {},
   "outputs": [],
   "source": [
    "TEXT.build_vocab(train_data, max_size=10000, min_freq=10, vectors=None) #담아내는데 10000개, 최소10번은 나오는 애들로, vector매트리스로 표현하지말고.\n",
    "#print(vars(TEXT.vocab))\n",
    "LABEL.build_vocab(train_data)"
   ]
  },
  {
   "cell_type": "code",
   "execution_count": 32,
   "id": "7962a574-abaa-4a62-a74a-dd21b6322048",
   "metadata": {},
   "outputs": [],
   "source": [
    "BATCH_SIZE = 64\n",
    "embeding_dim = 100\n",
    "hidden_size = 300\n",
    "\n",
    "train_iterator, valid_iterator, test_iterator = torchtext.data.BucketIterator.splits(\n",
    "    (train_data, valid_data, test_data),\n",
    "    batch_size = BATCH_SIZE\n",
    ")"
   ]
  },
  {
   "cell_type": "code",
   "execution_count": 35,
   "id": "3a1d50f6-95bf-4b02-8acb-3f3d62c6ce16",
   "metadata": {},
   "outputs": [],
   "source": [
    "class RNNCell_Encoder(nn.Module):\n",
    "    def __init__(self, input_dim, hidden_size):\n",
    "        super(RNNCell_Encoder, self).__init__()\n",
    "        self.rnn = nn.RNNCell(input_dim, hidden_size)\n",
    "\n",
    "    def forward(self, inputs):\n",
    "        bz = inputs.shape[1]\n",
    "        ht = torch.zeros((bz, hidden_size))\n",
    "\n",
    "        for word in inputs: #input은 문장전체 에서 , word 각각의 단어마다 가중치값을 구해서\n",
    "            ht = self.rnn(word, ht) #기억셀만 뽑아냄\n",
    "        return ht\n",
    "\n",
    "class LSTMCell_Encoder(nn.Module):\n",
    "    def __init__(self, input_dim, hidden_size):\n",
    "        super(LSTMCell_Encoder, self).__init__()\n",
    "        self.lstm = nn.LSTMCell(input_dim, hidden_size)\n",
    "\n",
    "    def forward(self, inputs):\n",
    "        bz = inputs.shape[1]\n",
    "        ht = torch.zeros((bz, hidden_size))\n",
    "        ct = torch.zeros((bz, hidden_size))\n",
    "        for word in inputs: \n",
    "            ht = self.rnn(word, (ht, ct)) \n",
    "        return ht\n",
    "\n",
    "class Net(nn.Module):\n",
    "    def __init__(self):\n",
    "        super(Net, self).__init__()\n",
    "        self.em = nn.Embedding(len(TEXT.vocab.stoi), embeding_dim) #len 즉 단어갯수 몇개가 오면 embeding_dim 100, 밖으로 나오는 벡터는 100개짜리임\n",
    "        self.rnn = LSTMCell_Encoder(embeding_dim, hidden_size)\n",
    "        self.fc1 = nn.Linear(hidden_size, 256)\n",
    "        self.fc2 = nn.Linear(256, 3)\n",
    "\n",
    "    def forward(self, x):\n",
    "        x = self.em(x)\n",
    "        x = self.rnn(x) \n",
    "        x = F.relu(self.fc1(x)) \n",
    "        x = self.fc2(x)\n",
    "        return x"
   ]
  },
  {
   "cell_type": "code",
   "execution_count": 36,
   "id": "85a4c047-81d3-4b9f-b067-19e401cf8087",
   "metadata": {},
   "outputs": [],
   "source": [
    "model = Net()\n",
    "loss_fn = nn.CrossEntropyLoss()\n",
    "optimizer = torch.optim.Adam(model.parameters(), lr=0.0001)"
   ]
  },
  {
   "cell_type": "markdown",
   "id": "57f1ce01-3fae-4be0-9dc6-d7b4fa050e7b",
   "metadata": {},
   "source": [
    "### 문제 변경 : 네이버 리뷰를 통한 감정분석 (0 or 1의 분류문제로 접근)\n",
    "\n",
    "> condition: 1. ML 사용 안하고, 2. 한국어 처리하며, 3. LSTM을 colab으로."
   ]
  },
  {
   "cell_type": "code",
   "execution_count": null,
   "id": "4db8759f-c3cc-47da-b999-21c47a94fdc7",
   "metadata": {},
   "outputs": [],
   "source": []
  }
 ],
 "metadata": {
  "kernelspec": {
   "display_name": "Python 3 (ipykernel)",
   "language": "python",
   "name": "python3"
  },
  "language_info": {
   "codemirror_mode": {
    "name": "ipython",
    "version": 3
   },
   "file_extension": ".py",
   "mimetype": "text/x-python",
   "name": "python",
   "nbconvert_exporter": "python",
   "pygments_lexer": "ipython3",
   "version": "3.12.4"
  }
 },
 "nbformat": 4,
 "nbformat_minor": 5
}
