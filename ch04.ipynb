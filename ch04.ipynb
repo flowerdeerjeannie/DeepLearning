{
 "cells": [
  {
   "cell_type": "code",
   "execution_count": 1,
   "id": "4cc7230e-3329-4255-a5ab-ae4fa1e4c53b",
   "metadata": {},
   "outputs": [
    {
     "data": {
      "text/plain": [
       "tensor([[1, 2],\n",
       "        [3, 4]])"
      ]
     },
     "execution_count": 1,
     "metadata": {},
     "output_type": "execute_result"
    }
   ],
   "source": [
    "import torch\n",
    "torch.tensor([[1,2],[3,4]])"
   ]
  },
  {
   "cell_type": "code",
   "execution_count": 2,
   "id": "c32aa190-1577-4472-9687-cfeeb14c9b7a",
   "metadata": {},
   "outputs": [
    {
     "data": {
      "text/plain": [
       "tensor([[1, 2, 5],\n",
       "        [3, 4, 3],\n",
       "        [5, 6, 2]])"
      ]
     },
     "execution_count": 2,
     "metadata": {},
     "output_type": "execute_result"
    }
   ],
   "source": [
    "torch.tensor([[1,2,5],[3,4,3],[5,6,2]])"
   ]
  },
  {
   "cell_type": "code",
   "execution_count": 3,
   "id": "e6fc5674-60aa-4823-89fb-f6c5f0cdf28d",
   "metadata": {},
   "outputs": [
    {
     "name": "stdout",
     "output_type": "stream",
     "text": [
      "[[1 2]\n",
      " [3 4]]\n"
     ]
    }
   ],
   "source": [
    "temp = torch.tensor([[1,2],[3,4]])\n",
    "print(temp.numpy())"
   ]
  },
  {
   "cell_type": "code",
   "execution_count": 4,
   "id": "be6d1306-5b5e-4c5e-9db2-1b58444b9f86",
   "metadata": {},
   "outputs": [
    {
     "data": {
      "text/plain": [
       "torch.Size([2, 2])"
      ]
     },
     "execution_count": 4,
     "metadata": {},
     "output_type": "execute_result"
    }
   ],
   "source": [
    "temp.shape"
   ]
  },
  {
   "cell_type": "code",
   "execution_count": 5,
   "id": "a2a1fa9c-c903-4d33-913a-b97d92f3e645",
   "metadata": {},
   "outputs": [
    {
     "data": {
      "text/plain": [
       "tensor([[1],\n",
       "        [2],\n",
       "        [3],\n",
       "        [4]])"
      ]
     },
     "execution_count": 5,
     "metadata": {},
     "output_type": "execute_result"
    }
   ],
   "source": [
    "temp.view(4,1)"
   ]
  },
  {
   "cell_type": "code",
   "execution_count": 6,
   "id": "a9708ffc-d21c-432f-939e-006df9008685",
   "metadata": {},
   "outputs": [
    {
     "data": {
      "text/plain": [
       "tensor([1, 2, 3, 4])"
      ]
     },
     "execution_count": 6,
     "metadata": {},
     "output_type": "execute_result"
    }
   ],
   "source": [
    "temp.view(-1)"
   ]
  },
  {
   "cell_type": "code",
   "execution_count": 7,
   "id": "54189ff4-85ec-4f7b-a1e2-8fb2b993ca6d",
   "metadata": {},
   "outputs": [
    {
     "data": {
      "text/plain": [
       "tensor([[1, 2, 3, 4]])"
      ]
     },
     "execution_count": 7,
     "metadata": {},
     "output_type": "execute_result"
    }
   ],
   "source": [
    "temp.view(1,-1)"
   ]
  },
  {
   "cell_type": "code",
   "execution_count": 8,
   "id": "c3c2607b-cb4c-4a70-8e6e-e27256ef971d",
   "metadata": {},
   "outputs": [
    {
     "data": {
      "text/plain": [
       "tensor([[1],\n",
       "        [2],\n",
       "        [3],\n",
       "        [4]])"
      ]
     },
     "execution_count": 8,
     "metadata": {},
     "output_type": "execute_result"
    }
   ],
   "source": [
    "temp.view(-1, 1)"
   ]
  },
  {
   "cell_type": "code",
   "execution_count": 9,
   "id": "bcd8d7c1-b191-4211-883c-660bd095de6d",
   "metadata": {},
   "outputs": [],
   "source": [
    "and_data=torch.tensor([ [0,0],\n",
    "                        [0,1],\n",
    "                        [1,0],\n",
    "                        [1,1] ], dtype=torch.float32)\n",
    "and_labels=torch.tensor([ [0],\n",
    "                          [0],\n",
    "                          [0],\n",
    "                          [1]], dtype=torch.float32)"
   ]
  },
  {
   "cell_type": "code",
   "execution_count": 10,
   "id": "43522576-5e1f-4e73-825f-4a6fbc4db7d5",
   "metadata": {},
   "outputs": [],
   "source": [
    "import torch.nn as nn"
   ]
  },
  {
   "cell_type": "code",
   "execution_count": 11,
   "id": "f246221c-4a48-46db-8bc2-20e83c0be283",
   "metadata": {},
   "outputs": [],
   "source": [
    "class SimpleNN(nn.Module):\n",
    "    def __init__(self):\n",
    "        super(SimpleNN, self).__init__()\n",
    "        self.fc1 = nn.Linear(2, 1)\n",
    "        self.sigmoid = nn.Sigmoid()\n",
    "        #입력크기 2, 출력크기 1인 선형 레이어 정의함. \n",
    "        #self.fc2 = nn.Linear(2,1) 두번째 선형 레이어\n",
    "\n",
    "    def forward(self, x): #forward - 입력받아서 출력 변환과정을 정의함\n",
    "        x = self.fc1(x) #입력 x를 첫번째 선형레이어 fc1에 통과시킴. 선형변환 적용됨\n",
    "        x = self.sigmoid(x) #그 결과에 시그모이드 함수로 변환하여, 0과 1 사이로 이진 확률로 해석나옴\n",
    "        return x"
   ]
  },
  {
   "cell_type": "code",
   "execution_count": 12,
   "id": "8445dc9a-1d70-4769-8863-9bccfaf58f42",
   "metadata": {},
   "outputs": [],
   "source": [
    "l1 = nn.Linear(2,1)\n",
    "x=l1(and_data)"
   ]
  },
  {
   "cell_type": "code",
   "execution_count": 13,
   "id": "53469018-c44b-4c08-9e87-07eaa237ffbe",
   "metadata": {},
   "outputs": [
    {
     "data": {
      "text/plain": [
       "torch.Size([4, 1])"
      ]
     },
     "execution_count": 13,
     "metadata": {},
     "output_type": "execute_result"
    }
   ],
   "source": [
    "x.shape"
   ]
  },
  {
   "cell_type": "code",
   "execution_count": 14,
   "id": "e0ed1a9e-4453-4b2f-8a46-4c1efa2e5faf",
   "metadata": {},
   "outputs": [
    {
     "data": {
      "text/plain": [
       "tensor([[0.4932],\n",
       "        [1.0405],\n",
       "        [0.7822],\n",
       "        [1.3295]], grad_fn=<ReluBackward0>)"
      ]
     },
     "execution_count": 14,
     "metadata": {},
     "output_type": "execute_result"
    }
   ],
   "source": [
    "torch.relu(x)"
   ]
  },
  {
   "cell_type": "code",
   "execution_count": 15,
   "id": "1cf177e2-c49d-4a81-a423-8297ce385984",
   "metadata": {},
   "outputs": [
    {
     "data": {
      "text/plain": [
       "(Parameter containing:\n",
       " tensor([[0.2890, 0.5473]], requires_grad=True),\n",
       " Parameter containing:\n",
       " tensor([0.4932], requires_grad=True),\n",
       " <bound method Module.parameters of Linear(in_features=2, out_features=1, bias=True)>)"
      ]
     },
     "execution_count": 15,
     "metadata": {},
     "output_type": "execute_result"
    }
   ],
   "source": [
    "l1.weight, l1.bias, l1.parameters"
   ]
  },
  {
   "cell_type": "code",
   "execution_count": 16,
   "id": "ffc07daf-5d9a-4b10-85a6-6e92031521ec",
   "metadata": {},
   "outputs": [
    {
     "data": {
      "text/plain": [
       "SimpleNN(\n",
       "  (fc1): Linear(in_features=2, out_features=1, bias=True)\n",
       "  (sigmoid): Sigmoid()\n",
       ")"
      ]
     },
     "execution_count": 16,
     "metadata": {},
     "output_type": "execute_result"
    }
   ],
   "source": [
    "model = SimpleNN()\n",
    "model"
   ]
  },
  {
   "cell_type": "code",
   "execution_count": 17,
   "id": "9f6afffe-29f3-4db4-8c43-4275fa460c8b",
   "metadata": {},
   "outputs": [
    {
     "data": {
      "text/plain": [
       "tensor([[0.4366],\n",
       "        [0.4488],\n",
       "        [0.4690],\n",
       "        [0.4814]], grad_fn=<SigmoidBackward0>)"
      ]
     },
     "execution_count": 17,
     "metadata": {},
     "output_type": "execute_result"
    }
   ],
   "source": [
    "model(and_data)"
   ]
  },
  {
   "cell_type": "code",
   "execution_count": 18,
   "id": "1be950a3-90c2-4407-bf5d-aa251c7db54c",
   "metadata": {},
   "outputs": [],
   "source": [
    "loss_fn = nn.CrossEntropyLoss()"
   ]
  },
  {
   "cell_type": "code",
   "execution_count": 19,
   "id": "99938d8c-bca2-4398-b51b-5d94569b9228",
   "metadata": {},
   "outputs": [],
   "source": [
    "import torch.optim as optim\n",
    "#weight 갱신, 천천히. "
   ]
  },
  {
   "cell_type": "code",
   "execution_count": 20,
   "id": "8a7a110c-8b51-4cb6-9ebe-f04b49eb5bcb",
   "metadata": {},
   "outputs": [],
   "source": [
    "model = SimpleNN()\n",
    "loss_fn = nn.BCELoss() #loss 숫자로 보기 위해서 이걸로 바꿔봄\n",
    "optimizer = optim.Adam(model.parameters(), lr=0.0001)"
   ]
  },
  {
   "cell_type": "code",
   "execution_count": 21,
   "id": "c35b8c50-4a14-494e-9249-94d35601e868",
   "metadata": {},
   "outputs": [
    {
     "name": "stdout",
     "output_type": "stream",
     "text": [
      "loss tensor(0.9015, grad_fn=<BinaryCrossEntropyBackward0>)\n",
      "loss tensor(0.9015, grad_fn=<BinaryCrossEntropyBackward0>)\n",
      "loss tensor(0.9014, grad_fn=<BinaryCrossEntropyBackward0>)\n",
      "loss tensor(0.9013, grad_fn=<BinaryCrossEntropyBackward0>)\n",
      "loss tensor(0.9013, grad_fn=<BinaryCrossEntropyBackward0>)\n",
      "loss tensor(0.9012, grad_fn=<BinaryCrossEntropyBackward0>)\n",
      "loss tensor(0.9011, grad_fn=<BinaryCrossEntropyBackward0>)\n",
      "loss tensor(0.9010, grad_fn=<BinaryCrossEntropyBackward0>)\n",
      "loss tensor(0.9010, grad_fn=<BinaryCrossEntropyBackward0>)\n",
      "loss tensor(0.9009, grad_fn=<BinaryCrossEntropyBackward0>)\n"
     ]
    }
   ],
   "source": [
    "for epoch in range(10):\n",
    "    optimizer.zero_grad() #경사 초기화\n",
    "    outputs = model(and_data) #모델 예측\n",
    "    loss = loss_fn(outputs, and_labels) #손실 계산\n",
    "    print('loss', loss.cpu()) #손실 출력\n",
    "    loss.backward()  #경사 계산\n",
    "    optimizer.step() #모델 파라미터 업데이트 \n",
    "\n",
    "#반복문을 다시 돌 때는 방정식의 weight. 가중치가 조금 바뀐 채로 그담번을 돌게 됨. 아주 조금\n",
    "#가중치를 조금씩 조절해가면서 반복문을 돈다는거\n",
    "#로스가 더이상 크게 유의미하게 줄지 않는 때까지 반복하면 됨"
   ]
  },
  {
   "cell_type": "code",
   "execution_count": 22,
   "id": "3fa9d71a-c443-4b35-a9fc-f0148feb34ff",
   "metadata": {},
   "outputs": [
    {
     "data": {
      "text/plain": [
       "tensor([[0.5928],\n",
       "        [0.7299],\n",
       "        [0.6934],\n",
       "        [0.8076]], grad_fn=<SigmoidBackward0>)"
      ]
     },
     "execution_count": 22,
     "metadata": {},
     "output_type": "execute_result"
    }
   ],
   "source": [
    "model(and_data)"
   ]
  },
  {
   "cell_type": "code",
   "execution_count": 23,
   "id": "1369cb71-2544-4900-a8e2-01b512e61e6d",
   "metadata": {},
   "outputs": [],
   "source": [
    "def and_gate(x1, x2):\n",
    "    return x1 and x2"
   ]
  },
  {
   "cell_type": "code",
   "execution_count": 24,
   "id": "e91e9fa6-9c7e-4476-881b-931c432ac973",
   "metadata": {},
   "outputs": [
    {
     "name": "stdout",
     "output_type": "stream",
     "text": [
      "loss tensor(-0., grad_fn=<DivBackward1>)\n",
      "loss tensor(-0., grad_fn=<DivBackward1>)\n",
      "loss tensor(-0., grad_fn=<DivBackward1>)\n",
      "loss tensor(-0., grad_fn=<DivBackward1>)\n",
      "loss tensor(-0., grad_fn=<DivBackward1>)\n",
      "loss tensor(-0., grad_fn=<DivBackward1>)\n",
      "loss tensor(-0., grad_fn=<DivBackward1>)\n",
      "loss tensor(-0., grad_fn=<DivBackward1>)\n",
      "loss tensor(-0., grad_fn=<DivBackward1>)\n",
      "loss tensor(-0., grad_fn=<DivBackward1>)\n"
     ]
    }
   ],
   "source": [
    "loss_fn = nn.CrossEntropyLoss()\n",
    "optimizer = optim.Adam(model.parameters(), lr=0.0001)\n",
    "\n",
    "for epoch in range(10):\n",
    "    optimizer.zero_grad()\n",
    "    outputs = model(and_data)\n",
    "    loss = loss_fn(outputs, and_labels)\n",
    "    print('loss', loss.cpu())\n",
    "    loss.backward() \n",
    "    optimizer.step()"
   ]
  },
  {
   "cell_type": "code",
   "execution_count": null,
   "id": "7aa07f14-91fb-4099-982a-e3c730dfbf78",
   "metadata": {},
   "outputs": [],
   "source": []
  }
 ],
 "metadata": {
  "kernelspec": {
   "display_name": "Python 3 (ipykernel)",
   "language": "python",
   "name": "python3"
  },
  "language_info": {
   "codemirror_mode": {
    "name": "ipython",
    "version": 3
   },
   "file_extension": ".py",
   "mimetype": "text/x-python",
   "name": "python",
   "nbconvert_exporter": "python",
   "pygments_lexer": "ipython3",
   "version": "3.12.4"
  }
 },
 "nbformat": 4,
 "nbformat_minor": 5
}
