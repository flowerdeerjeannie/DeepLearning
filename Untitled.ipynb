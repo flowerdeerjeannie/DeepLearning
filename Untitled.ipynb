{
 "cells": [
  {
   "cell_type": "code",
   "execution_count": 4,
   "id": "6ff792bb-e682-41bb-b53d-ef7d398dee67",
   "metadata": {},
   "outputs": [],
   "source": [
    "import torch\n",
    "import torch.nn as nn"
   ]
  },
  {
   "cell_type": "code",
   "execution_count": 64,
   "id": "50e43fe2-965d-43b6-9e24-d6f4910ffcd6",
   "metadata": {},
   "outputs": [],
   "source": [
    "class LeNet5(nn.Module):\n",
    "    def __init__(self):\n",
    "        super(LeNet5, self).__init__()\n",
    "        self.features = nn.Sequential(nn.Conv2d(1, 6, 5, 1, padding='same'),\n",
    "                                    nn.ReLU(),\n",
    "                                    nn.MaxPool2d(2),\n",
    "                                    nn.Conv2d(6, 16, 5, 1, padding='same'),\n",
    "                                    nn.ReLU(),\n",
    "                                    nn.MaxPool2d(2),\n",
    "                                    nn.Conv2d(16, 126, 5, 1, padding='same'),\n",
    "                                    nn.ReLU(),\n",
    "                                    nn.MaxPool2d(2))\n",
    "        \n",
    "        self.flatten = nn.Flatten()\n",
    "        \n",
    "        self.classifier = nn.Sequential(nn.Linear(1134 ,128),\n",
    "                                        nn.ReLU(),\n",
    "                                        nn.Linear(128, 64),\n",
    "                                        nn.ReLU(),\n",
    "                                        nn.Linear(64, 10),\n",
    "                                       nn.Softmax(dim=1))\n",
    "    def forward(self, x):\n",
    "        x = self.features(x)  # [batch_size, 126, 3, 3]\n",
    "        print(f'Features output shape: {x.shape}')  # Debug: check features output shape\n",
    "        x = self.flatten(x)   # [batch_size, 1134]\n",
    "        print(f'Flattened shape: {x.shape}')        # Debug: check flattened shape\n",
    "        x = self.classifier(x) # [batch_size, 10]\n",
    "        print(f'Classifier output shape: {x.shape}')  # Debug: check classifier output shape\n",
    "        return x\n",
    "                                "
   ]
  },
  {
   "cell_type": "code",
   "execution_count": 65,
   "id": "9e44224e-f797-49f3-92fb-dbae5eb749e2",
   "metadata": {},
   "outputs": [
    {
     "data": {
      "text/plain": [
       "LeNet5(\n",
       "  (features): Sequential(\n",
       "    (0): Conv2d(1, 6, kernel_size=(5, 5), stride=(1, 1), padding=same)\n",
       "    (1): ReLU()\n",
       "    (2): MaxPool2d(kernel_size=2, stride=2, padding=0, dilation=1, ceil_mode=False)\n",
       "    (3): Conv2d(6, 16, kernel_size=(5, 5), stride=(1, 1), padding=same)\n",
       "    (4): ReLU()\n",
       "    (5): MaxPool2d(kernel_size=2, stride=2, padding=0, dilation=1, ceil_mode=False)\n",
       "    (6): Conv2d(16, 126, kernel_size=(5, 5), stride=(1, 1), padding=same)\n",
       "    (7): ReLU()\n",
       "    (8): MaxPool2d(kernel_size=2, stride=2, padding=0, dilation=1, ceil_mode=False)\n",
       "  )\n",
       "  (flatten): Flatten(start_dim=1, end_dim=-1)\n",
       "  (classifier): Sequential(\n",
       "    (0): Linear(in_features=1134, out_features=128, bias=True)\n",
       "    (1): ReLU()\n",
       "    (2): Linear(in_features=128, out_features=64, bias=True)\n",
       "    (3): ReLU()\n",
       "    (4): Linear(in_features=64, out_features=10, bias=True)\n",
       "    (5): Softmax(dim=1)\n",
       "  )\n",
       ")"
      ]
     },
     "execution_count": 65,
     "metadata": {},
     "output_type": "execute_result"
    }
   ],
   "source": [
    "model = LeNet5()\n",
    "model"
   ]
  },
  {
   "cell_type": "code",
   "execution_count": 66,
   "id": "91df3cb3-2766-47c2-b4df-0ecb959f474e",
   "metadata": {},
   "outputs": [],
   "source": [
    "import torch.optim as optim\n",
    "\n",
    "loss = nn.CrossEntropyLoss()\n",
    "optimizer = optim.Adam(model.parameters(), lr=0.0001)"
   ]
  },
  {
   "cell_type": "code",
   "execution_count": 67,
   "id": "2ed56e29-ce99-4173-b94c-6aa3d0fde47c",
   "metadata": {},
   "outputs": [],
   "source": [
    "from torchvision import datasets\n",
    "from torch.utils.data import DataLoader\n",
    "from torchvision.transforms import v2"
   ]
  },
  {
   "cell_type": "code",
   "execution_count": 68,
   "id": "bb626537-ba90-4d4a-8f32-289c40a51632",
   "metadata": {},
   "outputs": [],
   "source": [
    "dataset = datasets.MNIST('data', download=True, transform=v2.ToTensor())"
   ]
  },
  {
   "cell_type": "code",
   "execution_count": 69,
   "id": "ad406acc-5977-4cf1-a6f2-96cbe592fb8c",
   "metadata": {},
   "outputs": [],
   "source": [
    "data_loader=DataLoader(dataset, batch_size=32)"
   ]
  },
  {
   "cell_type": "code",
   "execution_count": 70,
   "id": "3ca32c87-aa37-48e2-98ab-59fbb230a366",
   "metadata": {},
   "outputs": [
    {
     "name": "stdout",
     "output_type": "stream",
     "text": [
      "torch.Size([32, 1, 28, 28]) torch.Size([32])\n"
     ]
    }
   ],
   "source": [
    "for X_train, y_label in data_loader:\n",
    "    print(X_train.shape, y_label.shape)\n",
    "    break"
   ]
  },
  {
   "cell_type": "code",
   "execution_count": 71,
   "id": "ceaab9c6-3f0b-4854-a1fb-98c1b92b8d2e",
   "metadata": {},
   "outputs": [
    {
     "name": "stdout",
     "output_type": "stream",
     "text": [
      "Features output shape: torch.Size([32, 126, 3, 3])\n",
      "Flattened shape: torch.Size([32, 1134])\n",
      "Classifier output shape: torch.Size([32, 10])\n"
     ]
    },
    {
     "data": {
      "text/plain": [
       "tensor([[0.1098, 0.0880, 0.1033, 0.1004, 0.0989, 0.1123, 0.1081, 0.0937, 0.0913,\n",
       "         0.0942],\n",
       "        [0.1098, 0.0881, 0.1034, 0.1004, 0.0989, 0.1122, 0.1081, 0.0938, 0.0912,\n",
       "         0.0942],\n",
       "        [0.1100, 0.0882, 0.1032, 0.1001, 0.0989, 0.1123, 0.1084, 0.0937, 0.0911,\n",
       "         0.0942],\n",
       "        [0.1100, 0.0880, 0.1033, 0.1004, 0.0988, 0.1122, 0.1082, 0.0937, 0.0911,\n",
       "         0.0942],\n",
       "        [0.1098, 0.0881, 0.1033, 0.1002, 0.0988, 0.1124, 0.1083, 0.0936, 0.0912,\n",
       "         0.0942],\n",
       "        [0.1098, 0.0881, 0.1032, 0.1002, 0.0988, 0.1122, 0.1084, 0.0937, 0.0913,\n",
       "         0.0943],\n",
       "        [0.1098, 0.0881, 0.1032, 0.1003, 0.0988, 0.1121, 0.1084, 0.0937, 0.0913,\n",
       "         0.0942],\n",
       "        [0.1098, 0.0881, 0.1034, 0.1003, 0.0989, 0.1124, 0.1082, 0.0936, 0.0911,\n",
       "         0.0942],\n",
       "        [0.1098, 0.0882, 0.1032, 0.1003, 0.0989, 0.1121, 0.1084, 0.0938, 0.0912,\n",
       "         0.0941],\n",
       "        [0.1099, 0.0880, 0.1034, 0.1003, 0.0989, 0.1124, 0.1082, 0.0936, 0.0910,\n",
       "         0.0942],\n",
       "        [0.1098, 0.0881, 0.1034, 0.1004, 0.0988, 0.1122, 0.1082, 0.0938, 0.0912,\n",
       "         0.0942],\n",
       "        [0.1099, 0.0881, 0.1033, 0.1003, 0.0989, 0.1122, 0.1083, 0.0938, 0.0912,\n",
       "         0.0942],\n",
       "        [0.1099, 0.0880, 0.1031, 0.1003, 0.0990, 0.1121, 0.1082, 0.0937, 0.0913,\n",
       "         0.0943],\n",
       "        [0.1099, 0.0881, 0.1033, 0.1003, 0.0989, 0.1123, 0.1082, 0.0937, 0.0912,\n",
       "         0.0942],\n",
       "        [0.1098, 0.0882, 0.1032, 0.1004, 0.0989, 0.1121, 0.1083, 0.0938, 0.0912,\n",
       "         0.0941],\n",
       "        [0.1099, 0.0881, 0.1033, 0.1004, 0.0988, 0.1122, 0.1082, 0.0937, 0.0912,\n",
       "         0.0942],\n",
       "        [0.1099, 0.0882, 0.1033, 0.1003, 0.0988, 0.1122, 0.1082, 0.0937, 0.0912,\n",
       "         0.0942],\n",
       "        [0.1099, 0.0881, 0.1033, 0.1003, 0.0988, 0.1122, 0.1083, 0.0937, 0.0912,\n",
       "         0.0943],\n",
       "        [0.1100, 0.0881, 0.1033, 0.1002, 0.0988, 0.1122, 0.1082, 0.0938, 0.0911,\n",
       "         0.0942],\n",
       "        [0.1098, 0.0881, 0.1033, 0.1004, 0.0989, 0.1123, 0.1082, 0.0936, 0.0912,\n",
       "         0.0942],\n",
       "        [0.1098, 0.0881, 0.1032, 0.1002, 0.0990, 0.1123, 0.1083, 0.0936, 0.0912,\n",
       "         0.0942],\n",
       "        [0.1099, 0.0881, 0.1033, 0.1004, 0.0990, 0.1122, 0.1081, 0.0937, 0.0911,\n",
       "         0.0942],\n",
       "        [0.1099, 0.0881, 0.1034, 0.1003, 0.0988, 0.1123, 0.1082, 0.0937, 0.0911,\n",
       "         0.0942],\n",
       "        [0.1100, 0.0880, 0.1033, 0.1004, 0.0989, 0.1122, 0.1082, 0.0937, 0.0911,\n",
       "         0.0942],\n",
       "        [0.1099, 0.0881, 0.1032, 0.1003, 0.0989, 0.1122, 0.1083, 0.0937, 0.0912,\n",
       "         0.0942],\n",
       "        [0.1101, 0.0880, 0.1033, 0.1002, 0.0989, 0.1123, 0.1081, 0.0937, 0.0911,\n",
       "         0.0943],\n",
       "        [0.1098, 0.0881, 0.1033, 0.1003, 0.0989, 0.1123, 0.1082, 0.0937, 0.0912,\n",
       "         0.0942],\n",
       "        [0.1098, 0.0880, 0.1033, 0.1004, 0.0989, 0.1124, 0.1082, 0.0936, 0.0912,\n",
       "         0.0943],\n",
       "        [0.1099, 0.0881, 0.1031, 0.1003, 0.0987, 0.1123, 0.1084, 0.0936, 0.0914,\n",
       "         0.0943],\n",
       "        [0.1098, 0.0880, 0.1034, 0.1004, 0.0988, 0.1122, 0.1082, 0.0937, 0.0912,\n",
       "         0.0943],\n",
       "        [0.1100, 0.0881, 0.1031, 0.1001, 0.0988, 0.1122, 0.1084, 0.0937, 0.0913,\n",
       "         0.0943],\n",
       "        [0.1099, 0.0880, 0.1033, 0.1004, 0.0988, 0.1124, 0.1081, 0.0937, 0.0912,\n",
       "         0.0942]], grad_fn=<SoftmaxBackward0>)"
      ]
     },
     "execution_count": 71,
     "metadata": {},
     "output_type": "execute_result"
    }
   ],
   "source": [
    "model(X_train)"
   ]
  },
  {
   "cell_type": "code",
   "execution_count": 72,
   "id": "f83ddb73-8eb9-4697-96a3-84f66cdb0614",
   "metadata": {},
   "outputs": [
    {
     "name": "stdout",
     "output_type": "stream",
     "text": [
      "Features output shape: torch.Size([32, 126, 3, 3])\n",
      "Flattened shape: torch.Size([32, 1134])\n",
      "Classifier output shape: torch.Size([32, 10])\n"
     ]
    }
   ],
   "source": [
    "for X_train, y_label in data_loader:\n",
    "        optimizer.zero_grad()\n",
    "        outputs=model(X_train)\n",
    "        loss_fn = loss(outputs, y_label)\n",
    "        loss_fn.backward()\n",
    "        optimizer.step()\n",
    "        break"
   ]
  },
  {
   "cell_type": "code",
   "execution_count": 63,
   "id": "3727716a-3f1b-451d-bb30-cbcd71123421",
   "metadata": {},
   "outputs": [
    {
     "name": "stdout",
     "output_type": "stream",
     "text": [
      "torch.Size([32, 1134])\n",
      "torch.Size([32, 10])\n"
     ]
    }
   ],
   "source": [
    "model = LeNet5()\n",
    "input_tensor = torch.randn(32, 1, 28, 28)  # [batch_size, channels, height, width]\n",
    "output = model(input_tensor)\n",
    "print(output.shape) \n",
    " # Should be [batch_size, 10]"
   ]
  },
  {
   "cell_type": "code",
   "execution_count": null,
   "id": "721e9411-e0cd-4213-9b11-4a3146e31a9b",
   "metadata": {},
   "outputs": [],
   "source": []
  }
 ],
 "metadata": {
  "kernelspec": {
   "display_name": "Python 3 (ipykernel)",
   "language": "python",
   "name": "python3"
  },
  "language_info": {
   "codemirror_mode": {
    "name": "ipython",
    "version": 3
   },
   "file_extension": ".py",
   "mimetype": "text/x-python",
   "name": "python",
   "nbconvert_exporter": "python",
   "pygments_lexer": "ipython3",
   "version": "3.12.4"
  }
 },
 "nbformat": 4,
 "nbformat_minor": 5
}
