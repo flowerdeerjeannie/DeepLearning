{
 "cells": [
  {
   "cell_type": "code",
   "execution_count": 1,
   "id": "9aea30d8-3126-4d90-adbb-c1c7a82623d3",
   "metadata": {},
   "outputs": [],
   "source": [
    "import torch\n",
    "import torch.nn as nn\n",
    "\n",
    "import pandas as pd\n",
    "import numpy as np\n",
    "import matplotlib.pyplot as plt\n",
    "import seaborn as sns\n",
    "\n",
    "from sklearn.model_selection import train_test_split\n",
    "from torch.utils.data import Dataset, DataLoader"
   ]
  },
  {
   "cell_type": "code",
   "execution_count": 2,
   "id": "603410c6-5dc7-461a-bf34-e5e2cc13543c",
   "metadata": {},
   "outputs": [],
   "source": [
    "#preprocessing() 함수를 만들어서 전처리를 다 묶어버림\n",
    "\n",
    "def preprocessing():\n",
    "    dataset = pd.read_csv(\"data/car_evaluation.csv\")\n",
    "    categorical_columns = [\"price\", \"maint\", \"doors\", \"persons\", \"lug_capacity\", \"safety\"]\n",
    "    for category in categorical_columns:\n",
    "        dataset[category] = dataset[category].astype(\"category\")\n",
    "        #카테고리화 한다고 해서 데이터 형태는 변화 없음. 숫자로 인코딩하기 위한 데이터 타입이 'cateogory'가 되는것\n",
    "        #원래는 아무것도 할 수 없는 문자열 형태였음을 기억하자.\n",
    "    price = dataset[\"price\"].cat.codes.values\n",
    "    maint = dataset[\"maint\"].cat.codes.values\n",
    "    doors = dataset[\"doors\"].cat.codes.values\n",
    "    persons = dataset[\"persons\"].cat.codes.values\n",
    "    lug_capacity = dataset[\"lug_capacity\"].cat.codes.values\n",
    "    safety = dataset[\"safety\"].cat.codes.values\n",
    "    \n",
    "    categorical_data = np.stack([price, maint, doors, persons, lug_capacity, safety],1)\n",
    "    #데이터나 형태 변경 없이 타입 자체를 np에서 tensor로 변경하는거\n",
    "    categorical_data = torch.tensor(categorical_data, dtype=torch.int64)\n",
    "\n",
    "    #원래 사이즈가 필요한건 아님\n",
    "    categorical_colum_sizes = [len(dataset[column].cat.categories) for column in categorical_columns]\n",
    "    categorical_embedding_sizes = [(col_size, min(50, (col_size)+1) // 2) for col_size in categorical_colum_sizes]\n",
    "    \n",
    "    #dataset에 'output' column이 있기 때문에 전처리 과정에서 이렇게 쉽게 가능한 것\n",
    "    outputs = dataset[\"output\"].astype(\"category\").cat.codes.values\n",
    "    outputs = torch.tensor(outputs, dtype=torch.int64).flatten()\n",
    "\n",
    "    return categorical_data, outputs, categorical_embedding_sizes\n",
    "    \n",
    "#호출\n",
    "categorical_data, outputs, categorical_embedding_sizes=preprocessing()"
   ]
  },
  {
   "cell_type": "code",
   "execution_count": 3,
   "id": "71e63619-4875-42d3-ac04-e3bfce872025",
   "metadata": {},
   "outputs": [],
   "source": [
    "X_train, X_test, y_train, y_test = train_test_split(categorical_data, outputs, test_size=0.2, random_state=42)"
   ]
  },
  {
   "cell_type": "code",
   "execution_count": 4,
   "id": "4d96367f-1453-4e45-8156-9cb200b7c352",
   "metadata": {},
   "outputs": [],
   "source": [
    "#nn.Module 하듯이 dataset 클래스 만들때 Dataset 상속 받아야 함\n",
    "\n",
    "class CarEvaluationDataset(Dataset):\n",
    "    def __init__(self, categorical_data, outputs):\n",
    "        self.categorical_data=categorical_data\n",
    "        self.outputs=outputs\n",
    "        \n",
    "    #pytorch가 몇개냐고 물어보는건 학습 데이터가 몇개냐고 물어보는 것\n",
    "    #len은 길이가 아니라 갯수라는 걸 받아들일 것\n",
    "    def __len__(self):\n",
    "        return len(self.categorical_data)\n",
    "\n",
    "    def __getitem__(self, idx):\n",
    "        X = self.categorical_data[idx]\n",
    "        y = self.outputs[idx]\n",
    "        return X,y"
   ]
  },
  {
   "cell_type": "code",
   "execution_count": 5,
   "id": "eede5bb2-5e6a-45c2-aa1e-20b65248b9c4",
   "metadata": {},
   "outputs": [],
   "source": [
    "train_dataset = CarEvaluationDataset(X_train, y_train)\n",
    "test_dataset = CarEvaluationDataset(X_test, y_test)\n",
    "\n",
    "train_loader = DataLoader(train_dataset, batch_size=64, shuffle=True)\n",
    "test_loader = DataLoader(test_dataset, batch_size=64, shuffle=False)"
   ]
  },
  {
   "cell_type": "code",
   "execution_count": 6,
   "id": "740f4f6b-3e9f-401c-bbe3-add7bcb41a5a",
   "metadata": {},
   "outputs": [],
   "source": [
    "total_records = 1728\n",
    "test_records = int(total_records * 0.2)"
   ]
  },
  {
   "cell_type": "code",
   "execution_count": 7,
   "id": "a9b7e1b8-226c-4208-b8ff-29d2e0be3bd0",
   "metadata": {},
   "outputs": [],
   "source": [
    "class Model(nn.Module):\n",
    "    def __init__(self, embedding_size, output_size, layers, p=0.4):\n",
    "        super().__init__()\n",
    "        self.all_embeddings = nn.ModuleList([nn.Embedding(ni, nf) for ni, nf in embedding_size])\n",
    "        self.embedding_dropout = nn.Dropout(p)\n",
    "        all_layers = []\n",
    "        num_categorical_cols = sum((nf for ni, nf in embedding_size))\n",
    "        input_size = num_categorical_cols\n",
    "        for i in layers:\n",
    "            all_layers.append(nn.Linear(input_size, i))\n",
    "            all_layers.append(nn.ReLU(inplace=True))\n",
    "            all_layers.append(nn.BatchNorm1d(i))\n",
    "            all_layers.append(nn.Dropout(p))\n",
    "            input_size = i\n",
    "        all_layers.append(nn.Linear(layers[-1], output_size))\n",
    "        self.layers = nn.Sequential(*all_layers)\n",
    "\n",
    "    def forward(self, x_categorical):\n",
    "        embeddings = []\n",
    "        for i, e in enumerate(self.all_embeddings):\n",
    "            embeddings.append(e(x_categorical[:,i]))\n",
    "            \n",
    "        x = torch.cat(embeddings, 1)\n",
    "        x = self.embedding_dropout(x)\n",
    "        x = self.layers(x)\n",
    "        return x          "
   ]
  },
  {
   "cell_type": "code",
   "execution_count": 8,
   "id": "4c2aeb73-6820-4d74-9848-bfdd6c17708a",
   "metadata": {},
   "outputs": [
    {
     "data": {
      "text/plain": [
       "Model(\n",
       "  (all_embeddings): ModuleList(\n",
       "    (0-2): 3 x Embedding(4, 2)\n",
       "    (3-5): 3 x Embedding(3, 2)\n",
       "  )\n",
       "  (embedding_dropout): Dropout(p=0.4, inplace=False)\n",
       "  (layers): Sequential(\n",
       "    (0): Linear(in_features=12, out_features=200, bias=True)\n",
       "    (1): ReLU(inplace=True)\n",
       "    (2): BatchNorm1d(200, eps=1e-05, momentum=0.1, affine=True, track_running_stats=True)\n",
       "    (3): Dropout(p=0.4, inplace=False)\n",
       "    (4): Linear(in_features=200, out_features=100, bias=True)\n",
       "    (5): ReLU(inplace=True)\n",
       "    (6): BatchNorm1d(100, eps=1e-05, momentum=0.1, affine=True, track_running_stats=True)\n",
       "    (7): Dropout(p=0.4, inplace=False)\n",
       "    (8): Linear(in_features=100, out_features=50, bias=True)\n",
       "    (9): ReLU(inplace=True)\n",
       "    (10): BatchNorm1d(50, eps=1e-05, momentum=0.1, affine=True, track_running_stats=True)\n",
       "    (11): Dropout(p=0.4, inplace=False)\n",
       "    (12): Linear(in_features=50, out_features=4, bias=True)\n",
       "  )\n",
       ")"
      ]
     },
     "execution_count": 8,
     "metadata": {},
     "output_type": "execute_result"
    }
   ],
   "source": [
    "model = Model(categorical_embedding_sizes, 4, [200, 100, 50], p=0.4)\n",
    "model"
   ]
  },
  {
   "cell_type": "code",
   "execution_count": 9,
   "id": "c4f95a0d-9206-401c-9156-4b1019860d99",
   "metadata": {},
   "outputs": [],
   "source": [
    "loss_function = nn.CrossEntropyLoss()\n",
    "optimizer = torch.optim.Adam(model.parameters(), lr=0.001)"
   ]
  },
  {
   "cell_type": "code",
   "execution_count": 10,
   "id": "238b5211-778e-4efd-bd86-996e95c5bd9a",
   "metadata": {},
   "outputs": [
    {
     "name": "stdout",
     "output_type": "stream",
     "text": [
      "0.5518639087677002\n",
      "0.6477234363555908\n",
      "0.36091455817222595\n",
      "0.7964324355125427\n",
      "0.31091761589050293\n",
      "0.404360830783844\n",
      "0.32642608880996704\n",
      "0.5188575387001038\n",
      "0.621932864189148\n",
      "0.6079772710800171\n",
      "0.5263095498085022\n",
      "0.40141311287879944\n",
      "0.407059907913208\n",
      "0.3303210139274597\n",
      "0.4676009714603424\n",
      "0.4527946710586548\n",
      "0.45885592699050903\n",
      "0.4913432002067566\n",
      "0.36803796887397766\n",
      "0.3121527135372162\n"
     ]
    }
   ],
   "source": [
    "epochs = 500\n",
    "aggregated_losses = []\n",
    "\n",
    "for epoch in range(epochs):\n",
    "    model.train()\n",
    "    for x_batch, y_batch in train_loader:\n",
    "        y_pred = model(x_batch)\n",
    "        single_loss = loss_function(y_pred, y_batch)\n",
    "        aggregated_losses.append(single_loss.item())\n",
    "\n",
    "        optimizer.zero_grad() #내 배치크기가 64잖아 그럼 1배치의 기울기 채우고 zero 만들고, step으로 다음배치 기울기로 넘어간다 \n",
    "        single_loss.backward() #손실 기준 기울기 계산\n",
    "        optimizer.step()\n",
    "\n",
    "    #매 25에폭마다의 손실을 출력해서 추이 볼라고\n",
    "    if (epoch+1) % 25 == 0:\n",
    "        print(single_loss.item())"
   ]
  },
  {
   "cell_type": "code",
   "execution_count": null,
   "id": "e47ff970",
   "metadata": {},
   "outputs": [],
   "source": []
  }
 ],
 "metadata": {
  "kernelspec": {
   "display_name": "Python 3 (ipykernel)",
   "language": "python",
   "name": "python3"
  },
  "language_info": {
   "codemirror_mode": {
    "name": "ipython",
    "version": 3
   },
   "file_extension": ".py",
   "mimetype": "text/x-python",
   "name": "python",
   "nbconvert_exporter": "python",
   "pygments_lexer": "ipython3",
   "version": "3.12.4"
  }
 },
 "nbformat": 4,
 "nbformat_minor": 5
}
