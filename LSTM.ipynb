{
 "cells": [
  {
   "cell_type": "code",
   "execution_count": 2,
   "id": "8ddbe11c-edb1-4406-b576-9a310e12ffa4",
   "metadata": {},
   "outputs": [],
   "source": [
    "import torch\n",
    "import torch.nn as nn"
   ]
  },
  {
   "cell_type": "code",
   "execution_count": 14,
   "id": "dbee597a-349d-41b7-91e6-9d771de9a1b9",
   "metadata": {},
   "outputs": [
    {
     "data": {
      "text/plain": [
       "LSTM(15, 20, batch_first=True)"
      ]
     },
     "execution_count": 14,
     "metadata": {},
     "output_type": "execute_result"
    }
   ],
   "source": [
    "lstm = nn.LSTM(input_size=15, hidden_size=20, num_layers=1 ,batch_first=True)\n",
    "lstm"
   ]
  },
  {
   "cell_type": "code",
   "execution_count": 18,
   "id": "cf2894f1-0ab4-44d0-b694-6ecdf98920b5",
   "metadata": {},
   "outputs": [
    {
     "data": {
      "text/plain": [
       "torch.Size([3, 35, 15])"
      ]
     },
     "execution_count": 18,
     "metadata": {},
     "output_type": "execute_result"
    }
   ],
   "source": [
    "input = torch.zeros(3, 35, 15) #zeros(배치 크기, 시퀀스 길이=50개 단어 or 30일간의 주식가격, 특성 수)\n",
    "input.shape"
   ]
  },
  {
   "cell_type": "code",
   "execution_count": 20,
   "id": "c23f3879-61a1-4497-9fae-f4503182198d",
   "metadata": {},
   "outputs": [
    {
     "name": "stdout",
     "output_type": "stream",
     "text": [
      "torch.Size([3, 35, 20]) torch.Size([1, 3, 20]) torch.Size([1, 3, 20])\n"
     ]
    }
   ],
   "source": [
    "outputs, (hidden_state, cell_state) = lstm(input)\n",
    "print(outputs.shape, hidden_state.shape, cell_state.shape)\n",
    "\n",
    "#outputs의 최종 출력을 보자\n",
    "#batch_first=True에 의해서 #원래 false 하면 (seq, batch, feature)였던게\n",
    "#outputs의 순서가 (batch, seq, hidden_size)로 나타내게 됨\n",
    "#모든 최종 출력 결과물에 hidden_size가 끝에 포함되어 있음을 알 수 있음"
   ]
  },
  {
   "cell_type": "code",
   "execution_count": 21,
   "id": "fbcefd2e-0dc1-43b4-ac21-ed97e7a4b988",
   "metadata": {},
   "outputs": [
    {
     "data": {
      "text/plain": [
       "LSTM(10, 20, num_layers=2, batch_first=True)"
      ]
     },
     "execution_count": 21,
     "metadata": {},
     "output_type": "execute_result"
    }
   ],
   "source": [
    "lstm = nn.LSTM(input_size=10, hidden_size=20, num_layers=2, batch_first=True)\n",
    "lstm"
   ]
  },
  {
   "cell_type": "code",
   "execution_count": 22,
   "id": "a5429505-dc48-444d-8a13-db9b21bc464c",
   "metadata": {},
   "outputs": [
    {
     "data": {
      "text/plain": [
       "torch.Size([1, 35, 10])"
      ]
     },
     "execution_count": 22,
     "metadata": {},
     "output_type": "execute_result"
    }
   ],
   "source": [
    "input = torch.zeros(1, 35, 10)\n",
    "\n",
    "input.shape"
   ]
  },
  {
   "cell_type": "code",
   "execution_count": 23,
   "id": "feccaac6-a3f5-4c59-8ebc-91bd8493eb52",
   "metadata": {},
   "outputs": [
    {
     "name": "stdout",
     "output_type": "stream",
     "text": [
      "torch.Size([1, 35, 20]) torch.Size([2, 1, 20]) torch.Size([2, 1, 20])\n"
     ]
    }
   ],
   "source": [
    "outputs, (hidden_state, cell_state) = lstm(input)\n",
    "print(outputs.shape, hidden_state.shape, cell_state.shape)"
   ]
  },
  {
   "cell_type": "code",
   "execution_count": 28,
   "id": "ed1ab1f5-5d14-485f-8e99-437bbe396e93",
   "metadata": {},
   "outputs": [
    {
     "data": {
      "text/plain": [
       "(torch.Size([2, 1, 20]), torch.Size([2, 20]))"
      ]
     },
     "execution_count": 28,
     "metadata": {},
     "output_type": "execute_result"
    }
   ],
   "source": [
    "hidden_state.shape, hidden_state.view(-1, 20).shape\n",
    "\n",
    "# 2,1,20 은 카드 두장, 1개의 시점, 20개의 특성."
   ]
  },
  {
   "cell_type": "code",
   "execution_count": null,
   "id": "e4b4daed-64a2-44ba-bbb4-1277ed5e9851",
   "metadata": {},
   "outputs": [],
   "source": []
  }
 ],
 "metadata": {
  "kernelspec": {
   "display_name": "Python 3 (ipykernel)",
   "language": "python",
   "name": "python3"
  },
  "language_info": {
   "codemirror_mode": {
    "name": "ipython",
    "version": 3
   },
   "file_extension": ".py",
   "mimetype": "text/x-python",
   "name": "python",
   "nbconvert_exporter": "python",
   "pygments_lexer": "ipython3",
   "version": "3.12.4"
  }
 },
 "nbformat": 4,
 "nbformat_minor": 5
}
