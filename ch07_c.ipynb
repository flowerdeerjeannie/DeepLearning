{
 "cells": [
  {
   "cell_type": "code",
   "execution_count": 1,
   "id": "5ebc3910-481c-4c77-b2ce-bbb951571f7b",
   "metadata": {},
   "outputs": [],
   "source": [
    "#pip install finance-datareader"
   ]
  },
  {
   "cell_type": "code",
   "execution_count": 2,
   "id": "0ed0fa57-5c5b-4660-aa7d-57a0f38ff89e",
   "metadata": {},
   "outputs": [],
   "source": [
    "#pip install plotly"
   ]
  },
  {
   "cell_type": "code",
   "execution_count": 3,
   "id": "9ddc3958-79ee-42bb-a9b4-715bee91460f",
   "metadata": {},
   "outputs": [],
   "source": [
    "import numpy as np\n",
    "import pandas as pd\n",
    "import matplotlib.pyplot as plt\n",
    "import FinanceDataReader as fdr\n",
    "\n",
    "import torch\n",
    "import torch.nn as nn"
   ]
  },
  {
   "cell_type": "code",
   "execution_count": 4,
   "id": "6327c6b3-55e7-4da7-927c-1b6e2a497239",
   "metadata": {},
   "outputs": [],
   "source": [
    "#목적: 데이터의 변동성 관계없이(ex) 액면분할, 추종을 따라 가고자 함"
   ]
  },
  {
   "cell_type": "code",
   "execution_count": 5,
   "id": "e726a781-19e1-4895-8626-7a49ac36c8d8",
   "metadata": {},
   "outputs": [],
   "source": [
    "data = fdr.DataReader(\"005930\")\n",
    "data = data[[\"Close\"]] #기억하기! [] 하나만 하면 시리즈로 나오고, [[]] 해야 데이터프레임 객체로 반납됨. 시리즈는 메소드가 너무 작아.. "
   ]
  },
  {
   "cell_type": "code",
   "execution_count": 6,
   "id": "d09e4f26-041b-4df9-8a01-73c7fa1ccc5c",
   "metadata": {},
   "outputs": [
    {
     "data": {
      "text/plain": [
       "[<matplotlib.lines.Line2D at 0x1e85de18d70>]"
      ]
     },
     "execution_count": 6,
     "metadata": {},
     "output_type": "execute_result"
    },
    {
     "data": {
      "image/png": "[encoded data removed]",
      "text/plain": [
       "<Figure size 640x480 with 1 Axes>"
      ]
     },
     "metadata": {},
     "output_type": "display_data"
    }
   ],
   "source": [
    "plt.plot(data)"
   ]
  },
  {
   "cell_type": "markdown",
   "id": "cd767a5d-bdea-4999-9f96-34282ee921bf",
   "metadata": {},
   "source": [
    "### 딥러닝 전용 코드 작성\n",
    "\n",
    "* aim: Close 의 '추세'를 반영해서 Close 값 예측"
   ]
  },
  {
   "cell_type": "code",
   "execution_count": 26,
   "id": "fe55f7c6-49ea-4e3e-a5d5-b1eca0f861e5",
   "metadata": {},
   "outputs": [
    {
     "data": {
      "text/plain": [
       "'cpu'"
      ]
     },
     "execution_count": 26,
     "metadata": {},
     "output_type": "execute_result"
    }
   ],
   "source": [
    "device = 'cuda:0' if torch.cuda.is_available() else 'cpu'\n",
    "device"
   ]
  },
  {
   "cell_type": "code",
   "execution_count": 27,
   "id": "30dab1c3-a4cc-4eed-ac97-2c2558ee3d82",
   "metadata": {},
   "outputs": [
    {
     "data": {
      "text/html": [
       "<div>\n",
       "<style scoped>\n",
       "    .dataframe tbody tr th:only-of-type {\n",
       "        vertical-align: middle;\n",
       "    }\n",
       "\n",
       "    .dataframe tbody tr th {\n",
       "        vertical-align: top;\n",
       "    }\n",
       "\n",
       "    .dataframe thead th {\n",
       "        text-align: right;\n",
       "    }\n",
       "</style>\n",
       "<table border=\"1\" class=\"dataframe\">\n",
       "  <thead>\n",
       "    <tr style=\"text-align: right;\">\n",
       "      <th></th>\n",
       "      <th>Close</th>\n",
       "      <th>Close(t-1)</th>\n",
       "      <th>Close(t-2)</th>\n",
       "      <th>Close(t-3)</th>\n",
       "      <th>Close(t-4)</th>\n",
       "      <th>Close(t-5)</th>\n",
       "      <th>Close(t-6)</th>\n",
       "      <th>Close(t-7)</th>\n",
       "    </tr>\n",
       "    <tr>\n",
       "      <th>Date</th>\n",
       "      <th></th>\n",
       "      <th></th>\n",
       "      <th></th>\n",
       "      <th></th>\n",
       "      <th></th>\n",
       "      <th></th>\n",
       "      <th></th>\n",
       "      <th></th>\n",
       "    </tr>\n",
       "  </thead>\n",
       "  <tbody>\n",
       "    <tr>\n",
       "      <th>2000-05-03</th>\n",
       "      <td>6180</td>\n",
       "      <td>6280.0</td>\n",
       "      <td>6000.0</td>\n",
       "      <td>5400.0</td>\n",
       "      <td>5600.0</td>\n",
       "      <td>5640.0</td>\n",
       "      <td>5800.0</td>\n",
       "      <td>6050.0</td>\n",
       "    </tr>\n",
       "    <tr>\n",
       "      <th>2000-05-04</th>\n",
       "      <td>6180</td>\n",
       "      <td>6180.0</td>\n",
       "      <td>6280.0</td>\n",
       "      <td>6000.0</td>\n",
       "      <td>5400.0</td>\n",
       "      <td>5600.0</td>\n",
       "      <td>5640.0</td>\n",
       "      <td>5800.0</td>\n",
       "    </tr>\n",
       "    <tr>\n",
       "      <th>2000-05-08</th>\n",
       "      <td>6560</td>\n",
       "      <td>6180.0</td>\n",
       "      <td>6180.0</td>\n",
       "      <td>6280.0</td>\n",
       "      <td>6000.0</td>\n",
       "      <td>5400.0</td>\n",
       "      <td>5600.0</td>\n",
       "      <td>5640.0</td>\n",
       "    </tr>\n",
       "    <tr>\n",
       "      <th>2000-05-09</th>\n",
       "      <td>6370</td>\n",
       "      <td>6560.0</td>\n",
       "      <td>6180.0</td>\n",
       "      <td>6180.0</td>\n",
       "      <td>6280.0</td>\n",
       "      <td>6000.0</td>\n",
       "      <td>5400.0</td>\n",
       "      <td>5600.0</td>\n",
       "    </tr>\n",
       "    <tr>\n",
       "      <th>2000-05-10</th>\n",
       "      <td>6350</td>\n",
       "      <td>6370.0</td>\n",
       "      <td>6560.0</td>\n",
       "      <td>6180.0</td>\n",
       "      <td>6180.0</td>\n",
       "      <td>6280.0</td>\n",
       "      <td>6000.0</td>\n",
       "      <td>5400.0</td>\n",
       "    </tr>\n",
       "    <tr>\n",
       "      <th>...</th>\n",
       "      <td>...</td>\n",
       "      <td>...</td>\n",
       "      <td>...</td>\n",
       "      <td>...</td>\n",
       "      <td>...</td>\n",
       "      <td>...</td>\n",
       "      <td>...</td>\n",
       "      <td>...</td>\n",
       "    </tr>\n",
       "    <tr>\n",
       "      <th>2024-08-05</th>\n",
       "      <td>71400</td>\n",
       "      <td>79600.0</td>\n",
       "      <td>83100.0</td>\n",
       "      <td>83900.0</td>\n",
       "      <td>81000.0</td>\n",
       "      <td>81200.0</td>\n",
       "      <td>80900.0</td>\n",
       "      <td>80400.0</td>\n",
       "    </tr>\n",
       "    <tr>\n",
       "      <th>2024-08-06</th>\n",
       "      <td>72500</td>\n",
       "      <td>71400.0</td>\n",
       "      <td>79600.0</td>\n",
       "      <td>83100.0</td>\n",
       "      <td>83900.0</td>\n",
       "      <td>81000.0</td>\n",
       "      <td>81200.0</td>\n",
       "      <td>80900.0</td>\n",
       "    </tr>\n",
       "    <tr>\n",
       "      <th>2024-08-07</th>\n",
       "      <td>74700</td>\n",
       "      <td>72500.0</td>\n",
       "      <td>71400.0</td>\n",
       "      <td>79600.0</td>\n",
       "      <td>83100.0</td>\n",
       "      <td>83900.0</td>\n",
       "      <td>81000.0</td>\n",
       "      <td>81200.0</td>\n",
       "    </tr>\n",
       "    <tr>\n",
       "      <th>2024-08-08</th>\n",
       "      <td>73400</td>\n",
       "      <td>74700.0</td>\n",
       "      <td>72500.0</td>\n",
       "      <td>71400.0</td>\n",
       "      <td>79600.0</td>\n",
       "      <td>83100.0</td>\n",
       "      <td>83900.0</td>\n",
       "      <td>81000.0</td>\n",
       "    </tr>\n",
       "    <tr>\n",
       "      <th>2024-08-09</th>\n",
       "      <td>74800</td>\n",
       "      <td>73400.0</td>\n",
       "      <td>74700.0</td>\n",
       "      <td>72500.0</td>\n",
       "      <td>71400.0</td>\n",
       "      <td>79600.0</td>\n",
       "      <td>83100.0</td>\n",
       "      <td>83900.0</td>\n",
       "    </tr>\n",
       "  </tbody>\n",
       "</table>\n",
       "<p>5993 rows × 8 columns</p>\n",
       "</div>"
      ],
      "text/plain": [
       "            Close  Close(t-1)  Close(t-2)  Close(t-3)  Close(t-4)  Close(t-5)  \\\n",
       "Date                                                                            \n",
       "2000-05-03   6180      6280.0      6000.0      5400.0      5600.0      5640.0   \n",
       "2000-05-04   6180      6180.0      6280.0      6000.0      5400.0      5600.0   \n",
       "2000-05-08   6560      6180.0      6180.0      6280.0      6000.0      5400.0   \n",
       "2000-05-09   6370      6560.0      6180.0      6180.0      6280.0      6000.0   \n",
       "2000-05-10   6350      6370.0      6560.0      6180.0      6180.0      6280.0   \n",
       "...           ...         ...         ...         ...         ...         ...   \n",
       "2024-08-05  71400     79600.0     83100.0     83900.0     81000.0     81200.0   \n",
       "2024-08-06  72500     71400.0     79600.0     83100.0     83900.0     81000.0   \n",
       "2024-08-07  74700     72500.0     71400.0     79600.0     83100.0     83900.0   \n",
       "2024-08-08  73400     74700.0     72500.0     71400.0     79600.0     83100.0   \n",
       "2024-08-09  74800     73400.0     74700.0     72500.0     71400.0     79600.0   \n",
       "\n",
       "            Close(t-6)  Close(t-7)  \n",
       "Date                                \n",
       "2000-05-03      5800.0      6050.0  \n",
       "2000-05-04      5640.0      5800.0  \n",
       "2000-05-08      5600.0      5640.0  \n",
       "2000-05-09      5400.0      5600.0  \n",
       "2000-05-10      6000.0      5400.0  \n",
       "...                ...         ...  \n",
       "2024-08-05     80900.0     80400.0  \n",
       "2024-08-06     81200.0     80900.0  \n",
       "2024-08-07     81000.0     81200.0  \n",
       "2024-08-08     83900.0     81000.0  \n",
       "2024-08-09     83100.0     83900.0  \n",
       "\n",
       "[5993 rows x 8 columns]"
      ]
     },
     "execution_count": 27,
     "metadata": {},
     "output_type": "execute_result"
    }
   ],
   "source": [
    "#추세를 추종하도록, LSTM 돌리기 전 데이터에 순차적 특성을 만들어 주기 위하여 하는 과정\n",
    "\n",
    "from copy import deepcopy as dc\n",
    "#복사 도와주는 객체\n",
    "\n",
    "#참고: shift(), resample()... 등 순차적 데이터 다루는 메소드 \n",
    "#데이터에 추세성. 시간적 계열성. 그걸 추종하기 위한 데이터로 만들어주기 위해서 shift()와 같은 함수로 순차를 부여한다는 개념.\n",
    "def prepare_dataframe_for_lstm(df, n_steps):\n",
    "    df = dc(df)\n",
    "    for i in range(1, n_steps+1):\n",
    "        df[f\"Close(t-{i})\"] = df[\"Close\"].shift(i)\n",
    "        #df['Close(t-1)'] = df['Close'].shift(1)\n",
    "        #df['Close(t-2)'] = df['Close'].shift(2)\n",
    "        #df['Close(t-3)'] = df['Close'].shift(3)...\n",
    "    df.dropna(inplace=True)\n",
    "    return df\n",
    "\n",
    "lookback=7\n",
    "shifted_df = prepare_dataframe_for_lstm(data, lookback)\n",
    "shifted_df"
   ]
  },
  {
   "cell_type": "code",
   "execution_count": 8,
   "id": "145ad58b-6920-42fe-a6d9-599aa7488150",
   "metadata": {},
   "outputs": [
    {
     "data": {
      "text/plain": [
       "(5993, 8)"
      ]
     },
     "execution_count": 8,
     "metadata": {},
     "output_type": "execute_result"
    }
   ],
   "source": [
    "#넘파이 객체로 바꿔주고 shape 확인.\n",
    "shifted_df_as_np=shifted_df.to_numpy()\n",
    "shifted_df_as_np.shape"
   ]
  },
  {
   "cell_type": "code",
   "execution_count": 9,
   "id": "1e7a887e-9781-4659-a8f5-da6ab1c0f268",
   "metadata": {},
   "outputs": [
    {
     "data": {
      "text/plain": [
       "array([[-0.92183075, -0.91956497, -0.92590914, ..., -0.93406593,\n",
       "        -0.93044069, -0.92477625],\n",
       "       [-0.92183075, -0.92183075, -0.91956497, ..., -0.93497224,\n",
       "        -0.93406593, -0.93044069],\n",
       "       [-0.9132208 , -0.92183075, -0.92183075, ..., -0.9395038 ,\n",
       "        -0.93497224, -0.93406593],\n",
       "       ...,\n",
       "       [ 0.6306786 ,  0.58083154,  0.55590801, ...,  0.83912994,\n",
       "         0.77342245,  0.777954  ],\n",
       "       [ 0.60122352,  0.6306786 ,  0.58083154, ...,  0.82100374,\n",
       "         0.83912994,  0.77342245],\n",
       "       [ 0.63294438,  0.60122352,  0.6306786 , ...,  0.7417016 ,\n",
       "         0.82100374,  0.83912994]])"
      ]
     },
     "execution_count": 9,
     "metadata": {},
     "output_type": "execute_result"
    }
   ],
   "source": [
    "from sklearn.preprocessing import MinMaxScaler\n",
    "scaler = MinMaxScaler(feature_range=(-1,1)) #구간 주면서 이안에 구겨넣도록함\n",
    "shifted_df_as_np=scaler.fit_transform(shifted_df_as_np)\n",
    "shifted_df_as_np"
   ]
  },
  {
   "cell_type": "code",
   "execution_count": 10,
   "id": "e2602f30-5cbb-4228-bd4c-9432b27820fd",
   "metadata": {},
   "outputs": [
    {
     "name": "stdout",
     "output_type": "stream",
     "text": [
      "(5993, 7) (5993,)\n"
     ]
    }
   ],
   "source": [
    "X = shifted_df_as_np[:, 1:]\n",
    "y = shifted_df_as_np[:, 0]\n",
    "\n",
    "#X는 과거 n_steps개의 값. 즉 입력 데이터\n",
    "#y는 내가 예측하고자 하는 정답값이라서 y. 타깃 데이터\n",
    "print(X.shape, y.shape)"
   ]
  },
  {
   "cell_type": "code",
   "execution_count": 11,
   "id": "3dee11ad-a8d1-4293-8f1e-d19a342072fb",
   "metadata": {},
   "outputs": [
    {
     "data": {
      "text/plain": [
       "array([-0.91956497, -0.92590914, -0.9395038 , -0.93497224, -0.93406593,\n",
       "       -0.93044069, -0.92477625])"
      ]
     },
     "execution_count": 11,
     "metadata": {},
     "output_type": "execute_result"
    }
   ],
   "source": [
    "X[0]"
   ]
  },
  {
   "cell_type": "code",
   "execution_count": 12,
   "id": "3463705f-eccb-47cb-9186-1d73109ab25c",
   "metadata": {},
   "outputs": [
    {
     "data": {
      "text/plain": [
       "array([[-0.92477625, -0.93044069, -0.93406593, ..., -0.9395038 ,\n",
       "        -0.92590914, -0.91956497],\n",
       "       [-0.93044069, -0.93406593, -0.93497224, ..., -0.92590914,\n",
       "        -0.91956497, -0.92183075],\n",
       "       [-0.93406593, -0.93497224, -0.9395038 , ..., -0.91956497,\n",
       "        -0.92183075, -0.92183075],\n",
       "       ...,\n",
       "       [ 0.777954  ,  0.77342245,  0.83912994, ...,  0.7417016 ,\n",
       "         0.55590801,  0.58083154],\n",
       "       [ 0.77342245,  0.83912994,  0.82100374, ...,  0.55590801,\n",
       "         0.58083154,  0.6306786 ],\n",
       "       [ 0.83912994,  0.82100374,  0.7417016 , ...,  0.58083154,\n",
       "         0.6306786 ,  0.60122352]])"
      ]
     },
     "execution_count": 12,
     "metadata": {},
     "output_type": "execute_result"
    }
   ],
   "source": [
    "X = dc(np.flip(X, axis=1))\n",
    "X"
   ]
  },
  {
   "cell_type": "code",
   "execution_count": 13,
   "id": "b6f7fae2-258d-4b86-9ef9-85c111e21877",
   "metadata": {},
   "outputs": [
    {
     "data": {
      "text/plain": [
       "5693"
      ]
     },
     "execution_count": 13,
     "metadata": {},
     "output_type": "execute_result"
    }
   ],
   "source": [
    "split_index = int(len(X)*0.95)\n",
    "split_index"
   ]
  },
  {
   "cell_type": "markdown",
   "id": "5e6b4e34-49c8-4f29-ba38-352e49dd88a6",
   "metadata": {},
   "source": [
    "### Train and Test"
   ]
  },
  {
   "cell_type": "code",
   "execution_count": 28,
   "id": "5a50898a-657a-45e6-8034-91ac83d2b38a",
   "metadata": {},
   "outputs": [],
   "source": [
    "X_train=X[:split_index] #X의 처음부터 splitidx 앞까지.\n",
    "X_test=X[split_index:] #splitidx 부터 끝까지.\n",
    "y_train=y[:split_index]\n",
    "y_test=y[split_index:]\n",
    "#하지만 이대로 넣을순없어. (,) 의 튜플이 나오는데 LSTM에 넣으려면 세개(, , )여야 하잔아 SO 다시 변형\n",
    "\n",
    "X_train = X_train.reshape((-1, lookback, 1))\n",
    "X_test = X_test.reshape((-1, lookback, 1))\n",
    "\n",
    "\n",
    "y_train = y_train.reshape((-1, 1))\n",
    "y_test = y_test.reshape((-1, 1))\n",
    "\n",
    "#shape을 정확하게 만들어야함. 만들고 찍어보세요\n",
    "#y는 검증데이터잖아 그래서 1차원 튜플로! "
   ]
  },
  {
   "cell_type": "code",
   "execution_count": 29,
   "id": "6e8916ca-1697-40a8-9edd-9513d6d63607",
   "metadata": {},
   "outputs": [
    {
     "name": "stdout",
     "output_type": "stream",
     "text": [
      "(5693, 7, 1) (300, 7, 1) (5693, 1) (300, 1)\n"
     ]
    }
   ],
   "source": [
    "print(X_train.shape, X_test.shape, y_train.shape, y_test.shape)"
   ]
  },
  {
   "cell_type": "code",
   "execution_count": 30,
   "id": "481aee00-a0d8-4b02-a884-f954b6c0568c",
   "metadata": {},
   "outputs": [],
   "source": [
    "# tensor로 변경, float 변경 \n",
    "\n",
    "X_train = torch.tensor(X_train).float()\n",
    "X_test = torch.tensor(X_test).float()\n",
    "y_train = torch.tensor(y_train).float()\n",
    "y_test = torch.tensor(y_test).float()"
   ]
  },
  {
   "cell_type": "code",
   "execution_count": 31,
   "id": "c452a617-e62b-4a96-86a1-e6473f9dca58",
   "metadata": {},
   "outputs": [
    {
     "name": "stdout",
     "output_type": "stream",
     "text": [
      "torch.Size([5693, 7, 1]) torch.Size([300, 7, 1]) torch.Size([5693, 1]) torch.Size([300, 1])\n"
     ]
    }
   ],
   "source": [
    "print(X_train.shape, X_test.shape, y_train.shape, y_test.shape)"
   ]
  },
  {
   "cell_type": "code",
   "execution_count": 32,
   "id": "a30db670-031d-4d09-a1ae-d203246a9bc0",
   "metadata": {},
   "outputs": [],
   "source": [
    "from torch.utils.data import Dataset\n",
    "\n",
    "class TimeSeriesDataset:\n",
    "    def __init__(self, X, y):\n",
    "        self.X = X\n",
    "        self.y = y\n",
    "\n",
    "    def __len__(self):\n",
    "        return len(self.X)  # X의 길이를 반환합니다.\n",
    "\n",
    "    def __getitem__(self, idx):\n",
    "        return self.X[idx], self.y[idx]\n",
    "\n",
    "train_dataset = TimeSeriesDataset(X_train, y_train)\n",
    "test_dataset= TimeSeriesDataset(X_test, y_test)"
   ]
  },
  {
   "cell_type": "code",
   "execution_count": 33,
   "id": "6b9c06ed-698b-4a85-a3b1-2d377e222ca3",
   "metadata": {},
   "outputs": [],
   "source": [
    "from torch.utils.data import DataLoader\n",
    "\n",
    "batch_size=16\n",
    "train_loader = DataLoader(train_dataset, batch_size=batch_size, shuffle=True)\n",
    "test_loader = DataLoader(test_dataset, batch_size=batch_size, shuffle=False)"
   ]
  },
  {
   "cell_type": "code",
   "execution_count": 34,
   "id": "9252313b-d59c-4d62-bd5a-9be95f965b9d",
   "metadata": {},
   "outputs": [
    {
     "name": "stdout",
     "output_type": "stream",
     "text": [
      "torch.Size([16, 7, 1]) torch.Size([16, 1])\n"
     ]
    }
   ],
   "source": [
    "for _, batch in enumerate(train_loader):\n",
    "    x_batch, y_batch = batch[0], batch[1]\n",
    "    print(x_batch.shape, y_batch.shape)\n",
    "    break"
   ]
  },
  {
   "cell_type": "code",
   "execution_count": 35,
   "id": "5fbc1ab1-9bcf-4306-a043-12dfa04993cc",
   "metadata": {},
   "outputs": [
    {
     "data": {
      "text/plain": [
       "LSTM(\n",
       "  (lstm): LSTM(1, 4, batch_first=True)\n",
       "  (fc): Linear(in_features=4, out_features=1, bias=True)\n",
       ")"
      ]
     },
     "execution_count": 35,
     "metadata": {},
     "output_type": "execute_result"
    }
   ],
   "source": [
    "class LSTM(nn.Module):\n",
    "    def __init__(self, input_size, hidden_size, num_layers):\n",
    "        super().__init__()\n",
    "        self.hidden_size = hidden_size\n",
    "        self.num_layers = num_layers\n",
    "        self.lstm = nn.LSTM (input_size, hidden_size, num_layers, batch_first=True)\n",
    "        self.fc = nn.Linear(hidden_size, 1)\n",
    "\n",
    "    def forward(self, x):\n",
    "        batch_size = x.size(0)\n",
    "        h0 = torch.zeros(self.num_layers, batch_size, self.hidden_size)\n",
    "        c0 = torch.zeros(self.num_layers, batch_size, self.hidden_size)\n",
    "        out, _ = self.lstm(x, (h0, c0))\n",
    "        out = self.fc(out[:, -1, :])\n",
    "        return out\n",
    "        \n",
    "model = LSTM(1,4,1)\n",
    "model"
   ]
  },
  {
   "cell_type": "code",
   "execution_count": 36,
   "id": "a2201f23-87c7-4e82-a839-664bb50fb849",
   "metadata": {},
   "outputs": [],
   "source": [
    "learning_rate = 0.001\n",
    "num_epochs = 10\n",
    "loss_function = nn.MSELoss()\n",
    "optimizer = torch.optim.Adam(model.parameters(), lr=learning_rate)"
   ]
  },
  {
   "cell_type": "code",
   "execution_count": 37,
   "id": "74e6cfce-8698-4b9e-ac05-6171cbcda084",
   "metadata": {},
   "outputs": [],
   "source": [
    "def train_one_epoch():\n",
    "    model.train(True)\n",
    "    print(f'Epoch: {epoch + 1}')\n",
    "    running_loss = 0.0\n",
    "    for batch_index, batch in enumerate(train_loader):\n",
    "        x_batch, y_batch = batch[0].to(device), batch[1].to(device)\n",
    "\n",
    "        output = model(x_batch)\n",
    "        loss = loss_function(output, y_batch)\n",
    "        running_loss += loss.item()\n",
    "\n",
    "        optimizer.zero_grad()\n",
    "        loss.backward()\n",
    "        optimizer.step()\n",
    "\n",
    "        if batch_index % 100 == 99:  # print every 100 batches\n",
    "            avg_loss_across_batches = running_loss / 100\n",
    "            print('Batch {0}, Loss: {1:.3f}'.format(batch_index+1,\n",
    "                                                    avg_loss_across_batches))\n",
    "            running_loss = 0.0\n",
    "    print()"
   ]
  },
  {
   "cell_type": "code",
   "execution_count": 38,
   "id": "8436f12f-bd98-4fa3-8e8e-0cb71012e604",
   "metadata": {},
   "outputs": [],
   "source": [
    "def validate_one_epoch():\n",
    "    model.train(False)\n",
    "    running_loss = 0.0\n",
    "\n",
    "    for batch_index, batch in enumerate(test_loader):\n",
    "        x_batch, y_batch = batch[0].to(device), batch[1].to(device)\n",
    "\n",
    "        with torch.no_grad():\n",
    "            output = model(x_batch)\n",
    "            loss = loss_function(output, y_batch)\n",
    "            running_loss += loss.item()\n",
    "\n",
    "    avg_loss_across_batches = running_loss / len(test_loader)\n",
    "\n",
    "    print('Val Loss: {0:.3f}'.format(avg_loss_across_batches))\n",
    "    print('***************************************************')\n",
    "    print()"
   ]
  },
  {
   "cell_type": "code",
   "execution_count": 39,
   "id": "cc97d53c-c2ae-4da7-9372-94eefd2f06cb",
   "metadata": {},
   "outputs": [
    {
     "name": "stdout",
     "output_type": "stream",
     "text": [
      "Epoch: 1\n",
      "Batch 100, Loss: 0.544\n",
      "Batch 200, Loss: 0.109\n",
      "Batch 300, Loss: 0.025\n",
      "\n",
      "Val Loss: 0.037\n",
      "***************************************************\n",
      "\n",
      "Epoch: 2\n",
      "Batch 100, Loss: 0.006\n",
      "Batch 200, Loss: 0.005\n",
      "Batch 300, Loss: 0.004\n",
      "\n",
      "Val Loss: 0.018\n",
      "***************************************************\n",
      "\n",
      "Epoch: 3\n",
      "Batch 100, Loss: 0.003\n",
      "Batch 200, Loss: 0.003\n",
      "Batch 300, Loss: 0.002\n",
      "\n",
      "Val Loss: 0.007\n",
      "***************************************************\n",
      "\n",
      "Epoch: 4\n",
      "Batch 100, Loss: 0.001\n",
      "Batch 200, Loss: 0.001\n",
      "Batch 300, Loss: 0.001\n",
      "\n",
      "Val Loss: 0.003\n",
      "***************************************************\n",
      "\n",
      "Epoch: 5\n",
      "Batch 100, Loss: 0.000\n",
      "Batch 200, Loss: 0.001\n",
      "Batch 300, Loss: 0.000\n",
      "\n",
      "Val Loss: 0.002\n",
      "***************************************************\n",
      "\n",
      "Epoch: 6\n",
      "Batch 100, Loss: 0.000\n",
      "Batch 200, Loss: 0.000\n",
      "Batch 300, Loss: 0.000\n",
      "\n",
      "Val Loss: 0.002\n",
      "***************************************************\n",
      "\n",
      "Epoch: 7\n",
      "Batch 100, Loss: 0.000\n",
      "Batch 200, Loss: 0.000\n",
      "Batch 300, Loss: 0.000\n",
      "\n",
      "Val Loss: 0.002\n",
      "***************************************************\n",
      "\n",
      "Epoch: 8\n",
      "Batch 100, Loss: 0.000\n",
      "Batch 200, Loss: 0.000\n",
      "Batch 300, Loss: 0.000\n",
      "\n",
      "Val Loss: 0.002\n",
      "***************************************************\n",
      "\n",
      "Epoch: 9\n",
      "Batch 100, Loss: 0.000\n",
      "Batch 200, Loss: 0.000\n",
      "Batch 300, Loss: 0.000\n",
      "\n",
      "Val Loss: 0.002\n",
      "***************************************************\n",
      "\n",
      "Epoch: 10\n",
      "Batch 100, Loss: 0.000\n",
      "Batch 200, Loss: 0.000\n",
      "Batch 300, Loss: 0.000\n",
      "\n",
      "Val Loss: 0.002\n",
      "***************************************************\n",
      "\n"
     ]
    }
   ],
   "source": [
    "learning_rate = 0.001\n",
    "num_epochs = 10\n",
    "loss_function = nn.MSELoss()\n",
    "optimizer = torch.optim.Adam(model.parameters(), lr=learning_rate)\n",
    "\n",
    "for epoch in range(num_epochs):\n",
    "    train_one_epoch()\n",
    "    validate_one_epoch()"
   ]
  },
  {
   "cell_type": "code",
   "execution_count": 40,
   "id": "2dc63337-9b3e-40cd-947e-02a99d85e4c3",
   "metadata": {},
   "outputs": [
    {
     "data": {
      "image/png": "[encoded data removed]",
      "text/plain": [
       "<Figure size 640x480 with 1 Axes>"
      ]
     },
     "metadata": {},
     "output_type": "display_data"
    }
   ],
   "source": [
    "with torch.no_grad():\n",
    "    predicted = model(X_train.to(device)).to('cpu').numpy()\n",
    "\n",
    "plt.plot(y_train, label='Actual Close')\n",
    "plt.plot(predicted, label='Predicted Close')\n",
    "plt.xlabel('Day')\n",
    "plt.ylabel('Close')\n",
    "plt.legend()\n",
    "plt.show()\n",
    "\n",
    "#아놔 과대적합."
   ]
  },
  {
   "cell_type": "code",
   "execution_count": null,
   "id": "d79c3268-1d38-460c-bf8c-8bf0f80c81ae",
   "metadata": {},
   "outputs": [],
   "source": []
  }
 ],
 "metadata": {
  "kernelspec": {
   "display_name": "Python 3 (ipykernel)",
   "language": "python",
   "name": "python3"
  },
  "language_info": {
   "codemirror_mode": {
    "name": "ipython",
    "version": 3
   },
   "file_extension": ".py",
   "mimetype": "text/x-python",
   "name": "python",
   "nbconvert_exporter": "python",
   "pygments_lexer": "ipython3",
   "version": "3.12.4"
  }
 },
 "nbformat": 4,
 "nbformat_minor": 5
}
